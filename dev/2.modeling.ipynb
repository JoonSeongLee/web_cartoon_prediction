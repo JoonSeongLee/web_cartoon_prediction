{
 "cells": [
  {
   "cell_type": "code",
   "execution_count": 1,
   "metadata": {},
   "outputs": [
    {
     "data": {
      "text/html": [
       "<div>\n",
       "<style scoped>\n",
       "    .dataframe tbody tr th:only-of-type {\n",
       "        vertical-align: middle;\n",
       "    }\n",
       "\n",
       "    .dataframe tbody tr th {\n",
       "        vertical-align: top;\n",
       "    }\n",
       "\n",
       "    .dataframe thead th {\n",
       "        text-align: right;\n",
       "    }\n",
       "</style>\n",
       "<table border=\"1\" class=\"dataframe\">\n",
       "  <thead>\n",
       "    <tr style=\"text-align: right;\">\n",
       "      <th></th>\n",
       "      <th>wt_num</th>\n",
       "      <th>title</th>\n",
       "      <th>score</th>\n",
       "      <th>artist</th>\n",
       "      <th>genre</th>\n",
       "      <th>chapter</th>\n",
       "      <th>reader</th>\n",
       "    </tr>\n",
       "  </thead>\n",
       "  <tbody>\n",
       "    <tr>\n",
       "      <th>0</th>\n",
       "      <td>0</td>\n",
       "      <td>신의 탑</td>\n",
       "      <td>9.93</td>\n",
       "      <td>SIU</td>\n",
       "      <td>fantasy</td>\n",
       "      <td>380</td>\n",
       "      <td>982</td>\n",
       "    </tr>\n",
       "    <tr>\n",
       "      <th>1</th>\n",
       "      <td>1</td>\n",
       "      <td>뷰티풀 군바리</td>\n",
       "      <td>9.82</td>\n",
       "      <td>설이 / 윤성원</td>\n",
       "      <td>drama</td>\n",
       "      <td>161</td>\n",
       "      <td>2332</td>\n",
       "    </tr>\n",
       "    <tr>\n",
       "      <th>2</th>\n",
       "      <td>2</td>\n",
       "      <td>윈드브레이커</td>\n",
       "      <td>9.96</td>\n",
       "      <td>조용석</td>\n",
       "      <td>drama</td>\n",
       "      <td>212</td>\n",
       "      <td>550</td>\n",
       "    </tr>\n",
       "    <tr>\n",
       "      <th>3</th>\n",
       "      <td>3</td>\n",
       "      <td>소녀의 세계</td>\n",
       "      <td>9.98</td>\n",
       "      <td>모랑지</td>\n",
       "      <td>daily</td>\n",
       "      <td>141</td>\n",
       "      <td>355</td>\n",
       "    </tr>\n",
       "    <tr>\n",
       "      <th>4</th>\n",
       "      <td>5</td>\n",
       "      <td>평범한 8반</td>\n",
       "      <td>9.95</td>\n",
       "      <td>영파카</td>\n",
       "      <td>comic</td>\n",
       "      <td>213</td>\n",
       "      <td>485</td>\n",
       "    </tr>\n",
       "  </tbody>\n",
       "</table>\n",
       "</div>"
      ],
      "text/plain": [
       "   wt_num    title  score    artist    genre  chapter  reader\n",
       "0       0     신의 탑   9.93       SIU  fantasy      380     982\n",
       "1       1  뷰티풀 군바리   9.82  설이 / 윤성원    drama      161    2332\n",
       "2       2   윈드브레이커   9.96       조용석    drama      212     550\n",
       "3       3   소녀의 세계   9.98       모랑지    daily      141     355\n",
       "4       5   평범한 8반   9.95       영파카    comic      213     485"
      ]
     },
     "execution_count": 1,
     "metadata": {},
     "output_type": "execute_result"
    }
   ],
   "source": [
    "info_wt = pd.read_csv(\"info_wt.csv\")\n",
    "info_wt.head()"
   ]
  },
  {
   "cell_type": "code",
   "execution_count": 2,
   "metadata": {},
   "outputs": [],
   "source": [
    "X_data = info_wt[[\"genre\", \"title\", \"chapter\", \"reader\"]]"
   ]
  },
  {
   "cell_type": "code",
   "execution_count": 3,
   "metadata": {},
   "outputs": [
    {
     "name": "stderr",
     "output_type": "stream",
     "text": [
      "/usr/local/Cellar/python3/3.6.4_2/Frameworks/Python.framework/Versions/3.6/lib/python3.6/site-packages/statsmodels/compat/pandas.py:56: FutureWarning: The pandas.core.datetools module is deprecated and will be removed in a future version. Please use the pandas.tseries module instead.\n",
      "  from pandas.core import datetools\n"
     ]
    }
   ],
   "source": [
    "import statsmodels.api as sm"
   ]
  },
  {
   "cell_type": "code",
   "execution_count": 4,
   "metadata": {},
   "outputs": [],
   "source": [
    "y = info_wt[[\"score\"]]"
   ]
  },
  {
   "cell_type": "code",
   "execution_count": 5,
   "metadata": {},
   "outputs": [],
   "source": [
    "model = sm.OLS.from_formula(\"score ~ scale(chapter) + scale(reader) + C(genre)\", info_wt)"
   ]
  },
  {
   "cell_type": "code",
   "execution_count": 6,
   "metadata": {},
   "outputs": [
    {
     "name": "stdout",
     "output_type": "stream",
     "text": [
      "                            OLS Regression Results                            \n",
      "==============================================================================\n",
      "Dep. Variable:                  score   R-squared:                       0.058\n",
      "Model:                            OLS   Adj. R-squared:                 -0.024\n",
      "Method:                 Least Squares   F-statistic:                    0.7109\n",
      "Date:                Thu, 03 May 2018   Prob (F-statistic):              0.726\n",
      "Time:                        22:52:47   Log-Likelihood:                -64.974\n",
      "No. Observations:                 139   AIC:                             153.9\n",
      "Df Residuals:                     127   BIC:                             189.2\n",
      "Df Model:                          11                                         \n",
      "Covariance Type:            nonrobust                                         \n",
      "===========================================================================================\n",
      "                              coef    std err          t      P>|t|      [0.025      0.975]\n",
      "-------------------------------------------------------------------------------------------\n",
      "Intercept                   9.8720      0.081    121.234      0.000       9.711      10.033\n",
      "C(genre)[T.comic]          -0.0992      0.107     -0.925      0.357      -0.311       0.113\n",
      "C(genre)[T.daily]           0.0155      0.149      0.104      0.917      -0.279       0.309\n",
      "C(genre)[T.drama]          -0.0054      0.106     -0.051      0.959      -0.216       0.205\n",
      "C(genre)[T.fantasy]        -0.0191      0.122     -0.156      0.876      -0.260       0.222\n",
      "C(genre)[T.historical]      0.0414      0.302      0.137      0.891      -0.555       0.638\n",
      "C(genre)[T.pure]            0.0621      0.248      0.251      0.802      -0.428       0.552\n",
      "C(genre)[T.sensibility]     0.0753      0.414      0.182      0.856      -0.743       0.894\n",
      "C(genre)[T.sports]         -0.9805      0.416     -2.356      0.020      -1.804      -0.157\n",
      "C(genre)[T.thrill]          0.0583      0.186      0.314      0.754      -0.309       0.426\n",
      "scale(chapter)              0.0175      0.036      0.487      0.627      -0.054       0.089\n",
      "scale(reader)               0.0114      0.036      0.319      0.751      -0.060       0.082\n",
      "==============================================================================\n",
      "Omnibus:                      246.892   Durbin-Watson:                   1.968\n",
      "Prob(Omnibus):                  0.000   Jarque-Bera (JB):            35282.160\n",
      "Skew:                          -8.056   Prob(JB):                         0.00\n",
      "Kurtosis:                      79.369   Cond. No.                         13.6\n",
      "==============================================================================\n",
      "\n",
      "Warnings:\n",
      "[1] Standard Errors assume that the covariance matrix of the errors is correctly specified.\n"
     ]
    }
   ],
   "source": [
    "result = model.fit()\n",
    "print(result.summary())"
   ]
  },
  {
   "cell_type": "code",
   "execution_count": 7,
   "metadata": {
    "scrolled": true
   },
   "outputs": [
    {
     "data": {
      "text/html": [
       "<div>\n",
       "<style scoped>\n",
       "    .dataframe tbody tr th:only-of-type {\n",
       "        vertical-align: middle;\n",
       "    }\n",
       "\n",
       "    .dataframe tbody tr th {\n",
       "        vertical-align: top;\n",
       "    }\n",
       "\n",
       "    .dataframe thead th {\n",
       "        text-align: right;\n",
       "    }\n",
       "</style>\n",
       "<table border=\"1\" class=\"dataframe\">\n",
       "  <thead>\n",
       "    <tr style=\"text-align: right;\">\n",
       "      <th></th>\n",
       "      <th>chapter</th>\n",
       "      <th>user_id</th>\n",
       "      <th>comment</th>\n",
       "      <th>like</th>\n",
       "      <th>dislike</th>\n",
       "      <th>wt_num</th>\n",
       "    </tr>\n",
       "  </thead>\n",
       "  <tbody>\n",
       "    <tr>\n",
       "      <th>735496</th>\n",
       "      <td>16</td>\n",
       "      <td>정예****(yeji****)</td>\n",
       "      <td>나라야...포기하면 협박 하겠어</td>\n",
       "      <td>0</td>\n",
       "      <td>0</td>\n",
       "      <td>191</td>\n",
       "    </tr>\n",
       "    <tr>\n",
       "      <th>735497</th>\n",
       "      <td>16</td>\n",
       "      <td>정예****(yeji****)</td>\n",
       "      <td>나라야!!!니가 성윤이를 포기하면 내가 가지게 될것이야!!!!</td>\n",
       "      <td>0</td>\n",
       "      <td>1</td>\n",
       "      <td>191</td>\n",
       "    </tr>\n",
       "    <tr>\n",
       "      <th>735498</th>\n",
       "      <td>16</td>\n",
       "      <td>정예****(yeji****)</td>\n",
       "      <td>나라하고 예진하고 성윤이를 두고 삼각 관계라면 내가 성윤이를 가지겠어!!!</td>\n",
       "      <td>0</td>\n",
       "      <td>3</td>\n",
       "      <td>191</td>\n",
       "    </tr>\n",
       "    <tr>\n",
       "      <th>735499</th>\n",
       "      <td>16</td>\n",
       "      <td>민트****(skie****)</td>\n",
       "      <td>태호가 왜그래?하고 얼굴들이밀때 나도 깜놀 ㅋㅋ\\n전에 성윤이가 최날이랑 버스 나란...</td>\n",
       "      <td>2</td>\n",
       "      <td>0</td>\n",
       "      <td>191</td>\n",
       "    </tr>\n",
       "    <tr>\n",
       "      <th>735500</th>\n",
       "      <td>16</td>\n",
       "      <td>이경****(jpmj****)</td>\n",
       "      <td>옹</td>\n",
       "      <td>1</td>\n",
       "      <td>0</td>\n",
       "      <td>191</td>\n",
       "    </tr>\n",
       "  </tbody>\n",
       "</table>\n",
       "</div>"
      ],
      "text/plain": [
       "        chapter           user_id  \\\n",
       "735496       16  정예****(yeji****)   \n",
       "735497       16  정예****(yeji****)   \n",
       "735498       16  정예****(yeji****)   \n",
       "735499       16  민트****(skie****)   \n",
       "735500       16  이경****(jpmj****)   \n",
       "\n",
       "                                                  comment  like  dislike  \\\n",
       "735496                                  나라야...포기하면 협박 하겠어     0        0   \n",
       "735497                 나라야!!!니가 성윤이를 포기하면 내가 가지게 될것이야!!!!     0        1   \n",
       "735498          나라하고 예진하고 성윤이를 두고 삼각 관계라면 내가 성윤이를 가지겠어!!!     0        3   \n",
       "735499  태호가 왜그래?하고 얼굴들이밀때 나도 깜놀 ㅋㅋ\\n전에 성윤이가 최날이랑 버스 나란...     2        0   \n",
       "735500                                                  옹     1        0   \n",
       "\n",
       "        wt_num  \n",
       "735496     191  \n",
       "735497     191  \n",
       "735498     191  \n",
       "735499     191  \n",
       "735500     191  "
      ]
     },
     "execution_count": 7,
     "metadata": {},
     "output_type": "execute_result"
    }
   ],
   "source": [
    "comments = pd.read_csv(\"comments.csv\")\n",
    "comments.tail()"
   ]
  },
  {
   "cell_type": "code",
   "execution_count": 8,
   "metadata": {},
   "outputs": [
    {
     "data": {
      "text/html": [
       "<div>\n",
       "<style scoped>\n",
       "    .dataframe tbody tr th:only-of-type {\n",
       "        vertical-align: middle;\n",
       "    }\n",
       "\n",
       "    .dataframe tbody tr th {\n",
       "        vertical-align: top;\n",
       "    }\n",
       "\n",
       "    .dataframe thead th {\n",
       "        text-align: right;\n",
       "    }\n",
       "</style>\n",
       "<table border=\"1\" class=\"dataframe\">\n",
       "  <thead>\n",
       "    <tr style=\"text-align: right;\">\n",
       "      <th></th>\n",
       "      <th>user_id</th>\n",
       "      <th>title</th>\n",
       "      <th>genre</th>\n",
       "      <th>comment</th>\n",
       "    </tr>\n",
       "  </thead>\n",
       "  <tbody>\n",
       "    <tr>\n",
       "      <th>735496</th>\n",
       "      <td>정예****(yeji****)</td>\n",
       "      <td>귀도호가록</td>\n",
       "      <td>action</td>\n",
       "      <td>나라야...포기하면 협박 하겠어</td>\n",
       "    </tr>\n",
       "    <tr>\n",
       "      <th>735497</th>\n",
       "      <td>정예****(yeji****)</td>\n",
       "      <td>귀도호가록</td>\n",
       "      <td>action</td>\n",
       "      <td>나라야!!!니가 성윤이를 포기하면 내가 가지게 될것이야!!!!</td>\n",
       "    </tr>\n",
       "    <tr>\n",
       "      <th>735498</th>\n",
       "      <td>정예****(yeji****)</td>\n",
       "      <td>귀도호가록</td>\n",
       "      <td>action</td>\n",
       "      <td>나라하고 예진하고 성윤이를 두고 삼각 관계라면 내가 성윤이를 가지겠어!!!</td>\n",
       "    </tr>\n",
       "    <tr>\n",
       "      <th>735499</th>\n",
       "      <td>민트****(skie****)</td>\n",
       "      <td>귀도호가록</td>\n",
       "      <td>action</td>\n",
       "      <td>태호가 왜그래?하고 얼굴들이밀때 나도 깜놀 ㅋㅋ\\n전에 성윤이가 최날이랑 버스 나란...</td>\n",
       "    </tr>\n",
       "    <tr>\n",
       "      <th>735500</th>\n",
       "      <td>이경****(jpmj****)</td>\n",
       "      <td>귀도호가록</td>\n",
       "      <td>action</td>\n",
       "      <td>옹</td>\n",
       "    </tr>\n",
       "  </tbody>\n",
       "</table>\n",
       "</div>"
      ],
      "text/plain": [
       "                 user_id  title   genre  \\\n",
       "735496  정예****(yeji****)  귀도호가록  action   \n",
       "735497  정예****(yeji****)  귀도호가록  action   \n",
       "735498  정예****(yeji****)  귀도호가록  action   \n",
       "735499  민트****(skie****)  귀도호가록  action   \n",
       "735500  이경****(jpmj****)  귀도호가록  action   \n",
       "\n",
       "                                                  comment  \n",
       "735496                                  나라야...포기하면 협박 하겠어  \n",
       "735497                 나라야!!!니가 성윤이를 포기하면 내가 가지게 될것이야!!!!  \n",
       "735498          나라하고 예진하고 성윤이를 두고 삼각 관계라면 내가 성윤이를 가지겠어!!!  \n",
       "735499  태호가 왜그래?하고 얼굴들이밀때 나도 깜놀 ㅋㅋ\\n전에 성윤이가 최날이랑 버스 나란...  \n",
       "735500                                                  옹  "
      ]
     },
     "execution_count": 8,
     "metadata": {},
     "output_type": "execute_result"
    }
   ],
   "source": [
    "text_df = info_wt.merge(comments, on='wt_num')\n",
    "text_df = text_df[['user_id','title','genre','comment']]\n",
    "text_df.tail()"
   ]
  },
  {
   "cell_type": "code",
   "execution_count": 9,
   "metadata": {},
   "outputs": [],
   "source": [
    "from sklearn.feature_extraction.text import TfidfVectorizer"
   ]
  },
  {
   "cell_type": "code",
   "execution_count": 10,
   "metadata": {},
   "outputs": [],
   "source": [
    "from sklearn.model_selection import train_test_split\n",
    "\n",
    "X_train, X_test, y_train, y_test = train_test_split(text_df.comment, text_df.title, \\\n",
    "                                                    test_size = 0.1, random_state =1)\n",
    "#10%를 테스트로\n",
    "X_train=X_train.values.astype('U')\n",
    "X_test=X_test.values.astype('U')"
   ]
  },
  {
   "cell_type": "code",
   "execution_count": 11,
   "metadata": {},
   "outputs": [],
   "source": [
    "from sklearn.pipeline import Pipeline\n",
    "from sklearn.naive_bayes import MultinomialNB\n",
    "\n",
    "a = Pipeline([\n",
    "    ('vect', TfidfVectorizer()),\n",
    "    ('clf', MultinomialNB(alpha=0.01)) # alpha -> 스무딩\n",
    "])\n",
    "model = a.fit(X_train, y_train)"
   ]
  },
  {
   "cell_type": "code",
   "execution_count": 12,
   "metadata": {},
   "outputs": [],
   "source": [
    "y_pred = model.predict(X_test)"
   ]
  },
  {
   "cell_type": "code",
   "execution_count": 13,
   "metadata": {},
   "outputs": [
    {
     "data": {
      "text/plain": [
       "array([[ 25,   1,   0, ...,   0,   7,   0],\n",
       "       [  0, 163,   0, ...,   0,  16,   0],\n",
       "       [  0,   1,   9, ...,   0,   2,   0],\n",
       "       ...,\n",
       "       [  0,   0,   0, ...,  16,   0,   0],\n",
       "       [  0,   4,   0, ...,   0, 891,   0],\n",
       "       [  0,   1,   0, ...,   0,  10, 172]])"
      ]
     },
     "execution_count": 13,
     "metadata": {},
     "output_type": "execute_result"
    }
   ],
   "source": [
    "from sklearn.metrics import confusion_matrix, classification_report \n",
    "confusion_matrix(y_test, y_pred)"
   ]
  },
  {
   "cell_type": "code",
   "execution_count": 14,
   "metadata": {},
   "outputs": [
    {
     "name": "stdout",
     "output_type": "stream",
     "text": [
      "                 precision    recall  f1-score   support\n",
      "\n",
      "        10월 28일       0.74      0.12      0.20       211\n",
      "       5kg을 위하여       0.55      0.25      0.34       661\n",
      "       Doll 체인지       1.00      0.09      0.16       104\n",
      "           가담항설       0.76      0.23      0.35       394\n",
      "    가우스전자 시즌3~4       0.70      0.17      0.28       134\n",
      "      간 떨어지는 동거       0.71      0.28      0.40       468\n",
      "           간질간질       1.00      0.06      0.12        31\n",
      "            감염자       0.73      0.13      0.23       163\n",
      "      갓 오브 하이스쿨       0.78      0.43      0.55       555\n",
      "           강변살다       1.00      0.13      0.24        15\n",
      "        걸어서 30분       0.81      0.31      0.44       316\n",
      "          격기 3반       0.05      0.02      0.02        63\n",
      "            결계녀       0.74      0.16      0.26       219\n",
      "   고교생을 환불해 주세요       0.59      0.18      0.28       304\n",
      "             고수       0.74      0.52      0.61       626\n",
      "         골든 체인지       1.00      0.05      0.09        41\n",
      "       공복의 저녁식사       0.84      0.26      0.39       178\n",
      "           구구까까       0.82      0.15      0.25        61\n",
      "            귀각시       0.00      0.00      0.00       292\n",
      "          귀도호가록       0.69      0.19      0.29       289\n",
      "그 판타지 세계에서 사는 법       0.51      0.47      0.49      1477\n",
      "            금수저       0.72      0.24      0.36       392\n",
      "           기기괴괴       0.04      0.04      0.04      2303\n",
      "             꼬리       0.83      0.05      0.10        96\n",
      "          꿈의 기업       0.73      0.11      0.20        70\n",
      "          나노리스트       0.59      0.36      0.45       876\n",
      "     나의 짝사랑 고백법       0.84      0.21      0.34       146\n",
      "           나이트런       0.00      0.00      0.00        39\n",
      "             내일       0.85      0.13      0.22       174\n",
      "           냐한남자       0.88      0.23      0.37        94\n",
      "           노블레스       0.74      0.13      0.22       423\n",
      "           니편내편       0.90      0.10      0.18        88\n",
      "         닥터 하운드       0.50      0.04      0.08        69\n",
      "            대가리       0.96      0.36      0.52       208\n",
      "          더 게이머       0.57      0.07      0.12       122\n",
      "             덴마       0.50      0.28      0.36      1172\n",
      "            도망자       0.50      0.02      0.05        41\n",
      "      랜덤채팅의 그녀!       0.65      0.29      0.40       597\n",
      "           마스크걸       0.67      0.07      0.13       109\n",
      "     마왕이 되는 중2야       0.75      0.22      0.34       222\n",
      "          마음의소리       0.76      0.41      0.53       532\n",
      "        마이너스의 손       0.89      0.32      0.47       154\n",
      "          만 화 고       0.80      0.06      0.11        71\n",
      "  모태솔로수용소 시즌2~3       0.94      0.11      0.20       143\n",
      "             몽홀       0.68      0.08      0.14       187\n",
      "미스터리 호러 지하철 (재)       0.00      0.00      0.00         8\n",
      "            미시령       0.02      0.02      0.02       321\n",
      "       바른연애 길잡이       1.00      0.05      0.10        60\n",
      "           방백남녀       0.89      0.21      0.35       182\n",
      "          백귀야행지       0.67      0.04      0.07        54\n",
      "       뱀이 앉은 자리       0.64      0.12      0.21       293\n",
      "            복학왕       0.58      0.24      0.34       859\n",
      "            부활남       0.69      0.26      0.37       421\n",
      "        뷰티풀 군바리       0.58      0.62      0.60      2127\n",
      "           비질란테       0.66      0.31      0.42       575\n",
      "           빙탕후루       0.62      0.08      0.14        98\n",
      "       서북의 저승사자       0.89      0.19      0.32       202\n",
      "         성공한 덕후       0.59      0.64      0.61      3151\n",
      "         소녀의 세계       0.80      0.27      0.41       234\n",
      "           스위트홈       0.56      0.37      0.44      1013\n",
      "            식스틴       0.64      0.18      0.29       375\n",
      "       신과함께 (재)       0.57      0.07      0.12       114\n",
      "            신도림       0.72      0.20      0.31       352\n",
      "          신암행어사       0.65      0.36      0.46       804\n",
      "          신의 언어       0.02      0.02      0.02        58\n",
      "           신의 탑       0.63      0.55      0.58      1337\n",
      "     심연의 하늘 시즌5       0.45      0.80      0.57      6990\n",
      "  쌉니다 천리마마트 (재)       0.95      0.12      0.22       152\n",
      "             씬커       0.43      0.03      0.06       102\n",
      "         아기낳는만화       0.96      0.15      0.25       177\n",
      "     아메리카노 엑소더스       0.85      0.10      0.17       114\n",
      "       아테나 컴플렉스       0.84      0.24      0.38        86\n",
      "        안녕, 대학생       0.70      0.15      0.25       295\n",
      "      야채호빵의 봄방학       0.92      0.12      0.21        92\n",
      "          어글리후드       0.51      0.24      0.33      1049\n",
      "      언덕 위의 제임스       1.00      0.05      0.09       103\n",
      "           언원티드       0.57      0.05      0.09        86\n",
      "            에이머       0.86      0.11      0.20       159\n",
      "        에피소드칵테일       0.86      0.17      0.28       109\n",
      "           여신강림       0.70      0.29      0.41       376\n",
      "             연놈       0.44      0.15      0.23       638\n",
      "            연애학       1.00      0.04      0.07        27\n",
      "           연애혁명       0.29      0.76      0.43      7254\n",
      "           열렙전사       0.01      0.01      0.01       370\n",
      "           열정호구       0.78      0.12      0.20       250\n",
      "         옆반의 인어       0.78      0.29      0.42       320\n",
      "         외모지상주의       0.47      0.56      0.51      2987\n",
      "     우리 오빠는 아이돌       0.60      0.02      0.04       138\n",
      "   우리집에 곰이 이사왔다       0.94      0.15      0.25       116\n",
      "       원주민 공포만화       0.02      0.02      0.02       334\n",
      "         윈드브레이커       0.82      0.29      0.43       421\n",
      "          윌유메리미       0.00      0.00      0.00        37\n",
      "       유일무이 로맨스       1.00      0.07      0.12        15\n",
      "     은주의 방 2~3부       0.89      0.09      0.17        86\n",
      "       이것도 친구라고       0.87      0.20      0.32       102\n",
      "    이말년씨리즈 2018       0.84      0.73      0.78       586\n",
      "      이상하고 아름다운       0.89      0.33      0.49       281\n",
      "            자판귀       1.00      0.02      0.03        57\n",
      "        전자오락수호대       0.72      0.73      0.73      1055\n",
      "           제로게임       0.64      0.26      0.37       520\n",
      "         조선왕조실톡       0.79      0.23      0.36       242\n",
      "          조의 영역       0.05      0.05      0.05      2380\n",
      "    죽음에 관하여 (재)       0.79      0.32      0.45       390\n",
      "   지금 이 순간 마법처럼       0.00      0.00      0.00        16\n",
      "        진눈깨비 소년       0.71      0.31      0.43       589\n",
      "   찬란하지 않아도 괜찮아       0.50      0.06      0.10        18\n",
      "       최강전설 강해효       0.45      0.50      0.48      3303\n",
      "            칼부림       0.00      0.00      0.00        17\n",
      "            쿠베라       0.92      0.30      0.46       220\n",
      "            킬더킹       0.00      0.00      0.00         7\n",
      "            테러맨       0.40      0.28      0.33      1752\n",
      "            트럼프       0.79      0.12      0.22       152\n",
      "           트롤트랩       1.00      0.15      0.27        52\n",
      "     특수 영능력 수사반       1.00      0.03      0.07        59\n",
      "           팀피닉스       0.67      0.07      0.12        61\n",
      "        패밀리 사이즈       0.00      0.00      0.00         5\n",
      "         퍼스트 미션       0.43      0.24      0.31      1381\n",
      "         평범한 8반       0.76      0.26      0.39       388\n",
      "       푸른사막 아아루       0.88      0.13      0.22        55\n",
      "          프리드로우       0.71      0.59      0.65       767\n",
      "          피에는 피       0.00      0.00      0.00        15\n",
      "             피플       0.00      0.00      0.00        54\n",
      "         하나의 하루       0.88      0.27      0.41       262\n",
      "          하루 3컷       0.90      0.19      0.31       143\n",
      "          하르모니아       0.00      0.00      0.00       357\n",
      "           하이브3       0.82      0.33      0.47       375\n",
      "    헬퍼 2 : 킬베로스       0.71      0.44      0.55       633\n",
      "             혈투       0.47      0.20      0.29       738\n",
      "          호랑이형님       0.42      0.44      0.43      3404\n",
      "           호랭총각       0.76      0.12      0.20       136\n",
      "        환상적인 소년       0.49      0.40      0.44      2231\n",
      "         히어로메이커       0.86      0.58      0.69       297\n",
      "\n",
      "    avg / total       0.51      0.42      0.41     73551\n",
      "\n"
     ]
    },
    {
     "name": "stderr",
     "output_type": "stream",
     "text": [
      "/usr/local/Cellar/python3/3.6.4_2/Frameworks/Python.framework/Versions/3.6/lib/python3.6/site-packages/sklearn/metrics/classification.py:1135: UndefinedMetricWarning: Precision and F-score are ill-defined and being set to 0.0 in labels with no predicted samples.\n",
      "  'precision', 'predicted', average, warn_for)\n"
     ]
    }
   ],
   "source": [
    "print(classification_report(y_test, y_pred))"
   ]
  },
  {
   "cell_type": "code",
   "execution_count": 36,
   "metadata": {},
   "outputs": [
    {
     "data": {
      "text/plain": [
       "array(['조의 영역', '뷰티풀 군바리', '그 판타지 세계에서 사는 법', '테러맨', '최강전설 강해효'],\n",
       "      dtype='<U15')"
      ]
     },
     "execution_count": 36,
     "metadata": {},
     "output_type": "execute_result"
    }
   ],
   "source": [
    "result = model.predict([X_test[0],X_test[1],X_test[2],X_test[3], X_test[4]])\n",
    "result"
   ]
  },
  {
   "cell_type": "code",
   "execution_count": 37,
   "metadata": {},
   "outputs": [
    {
     "name": "stdout",
     "output_type": "stream",
     "text": [
      "조의 영역 : 풀을 벨때 나는 소리\n",
      "\n",
      "풀\n",
      "\n",
      "뷰티풀 군바리 : 다희는 오늘도 예쁘다\n",
      "그 판타지 세계에서 사는 법 : 자까님 수고하셨구요ㅠ 이거 \n",
      "테러맨 : 으아ㅏㅏㅏ 초록괴물이다아아아\n",
      "최강전설 강해효 : 흐흐...이제가볼까?....\n"
     ]
    }
   ],
   "source": [
    "for idx, category in enumerate(result):\n",
    "    print(category,':', X_test[idx][:15])"
   ]
  },
  {
   "cell_type": "code",
   "execution_count": 16,
   "metadata": {},
   "outputs": [
    {
     "data": {
      "text/plain": [
       "array(['신의 탑', '고수'], dtype='<U15')"
      ]
     },
     "execution_count": 16,
     "metadata": {},
     "output_type": "execute_result"
    }
   ],
   "source": [
    "str1='쿤쿤 사기쿤'\n",
    "str2='강룡 최강인거임'\n",
    "model.predict([str1, str2])"
   ]
  },
  {
   "cell_type": "code",
   "execution_count": 22,
   "metadata": {},
   "outputs": [
    {
     "data": {
      "text/plain": [
       "array([[8.08616841e-04, 1.52293354e-03, 4.75788598e-04, 1.25168206e-03,\n",
       "        5.97096505e-04, 1.36274647e-03, 1.61474399e-04, 6.93057012e-04,\n",
       "        1.48380412e-03, 6.98141817e-05, 1.07480999e-03, 2.85380932e-04,\n",
       "        8.69000002e-04, 1.03937485e-03, 1.38987012e-03, 1.71756283e-04,\n",
       "        8.29166465e-04, 3.95112149e-04, 1.05393661e-03, 1.01500783e-03,\n",
       "        1.90227233e-03, 1.14182678e-03, 2.83005773e-03, 3.96333392e-04,\n",
       "        3.62530544e-04, 1.78924358e-03, 6.58323879e-04, 2.07694872e-04,\n",
       "        7.15761845e-04, 4.79764132e-04, 1.16679222e-03, 4.23031559e-04,\n",
       "        3.26340809e-04, 8.17959503e-04, 5.25570932e-04, 2.15679837e-03,\n",
       "        2.45055316e-04, 1.57926173e-03, 5.04310280e-04, 8.61094988e-04,\n",
       "        1.32237310e-03, 6.39981521e-04, 3.42630513e-04, 6.44294020e-04,\n",
       "        6.90233507e-04, 5.04329941e-05, 1.04868952e-03, 2.64108828e-04,\n",
       "        7.61481302e-04, 3.05731888e-04, 9.83580499e-04, 1.74590093e-03,\n",
       "        1.33211581e-03, 2.08794230e-03, 2.95325523e-06, 1.64693356e-03,\n",
       "        4.36232416e-04, 7.15405444e-04, 2.03311241e-03, 9.71438077e-04,\n",
       "        2.03696954e-03, 1.31022066e-03, 5.01100447e-04, 1.12557289e-03,\n",
       "        1.79314879e-03, 2.87842095e-04, 8.72037910e-01, 2.04337552e-03,\n",
       "        6.32962604e-04, 4.81544312e-04, 7.09371862e-04, 5.13779602e-04,\n",
       "        4.30725778e-04, 9.24772114e-04, 3.92159701e-04, 2.36242880e-03,\n",
       "        4.13498319e-04, 4.33530159e-04, 6.15839298e-04, 4.91833572e-04,\n",
       "        1.28755017e-03, 1.45496794e-03, 1.29172439e-04, 2.94935628e-03,\n",
       "        1.03512226e-03, 8.82433933e-04, 1.02933510e-03, 2.37879982e-03,\n",
       "        5.99524451e-04, 4.42428845e-04, 1.03682444e-03, 1.33897633e-03,\n",
       "        2.07358063e-04, 6.95350053e-05, 3.81076526e-04, 5.08301083e-04,\n",
       "        1.60321266e-03, 8.75823748e-04, 3.06277107e-04, 1.51274569e-03,\n",
       "        1.52905978e-03, 9.06534450e-04, 2.82915353e-03, 1.31548905e-03,\n",
       "        1.02540617e-04, 1.59375524e-03, 9.42097825e-05, 3.02518223e-03,\n",
       "        7.66769159e-05, 8.13227810e-04, 4.79113910e-05, 2.43570463e-03,\n",
       "        6.15150386e-04, 2.88948051e-04, 2.50304253e-04, 2.37179810e-04,\n",
       "        1.64771396e-05, 2.55162345e-03, 1.19012878e-03, 3.06689283e-04,\n",
       "        1.60971373e-03, 7.78360683e-05, 2.89768932e-04, 9.70516536e-04,\n",
       "        5.85748671e-04, 1.03957407e-03, 1.22282086e-03, 1.60183142e-03,\n",
       "        1.78195772e-03, 2.97228965e-03, 6.16455676e-04, 2.84013917e-03,\n",
       "        9.31967358e-04]])"
      ]
     },
     "execution_count": 22,
     "metadata": {},
     "output_type": "execute_result"
    }
   ],
   "source": [
    "model.predict_proba([str1])"
   ]
  },
  {
   "cell_type": "code",
   "execution_count": 38,
   "metadata": {},
   "outputs": [
    {
     "data": {
      "text/plain": [
       "array([[12537,  2483,    49,  1811,   440,     0,    15,     0,     0,\n",
       "         1203],\n",
       "       [ 3992, 10716,    26,  1371,   351,     1,    12,     0,     0,\n",
       "          960],\n",
       "       [  521,   346,   336,   227,    71,     0,     3,     0,     0,\n",
       "          340],\n",
       "       [ 3671,  1741,    49,  8200,   638,     1,    11,     0,     7,\n",
       "          902],\n",
       "       [ 1712,   946,    21,  1164,  2796,     0,     8,     0,    16,\n",
       "          684],\n",
       "       [   36,    45,     1,    28,    11,    10,     0,     0,     0,\n",
       "           73],\n",
       "       [  276,   148,     7,   150,    55,     0,   201,     0,     0,\n",
       "           65],\n",
       "       [   27,     8,     0,    13,     2,     0,     1,     0,     0,\n",
       "            6],\n",
       "       [   13,     1,     0,    22,    25,     0,     0,     0,     1,\n",
       "            1],\n",
       "       [ 1561,   957,    38,   701,   212,    10,     7,     0,     0,\n",
       "         8461]])"
      ]
     },
     "execution_count": 38,
     "metadata": {},
     "output_type": "execute_result"
    }
   ],
   "source": [
    "text_df = info_wt.merge(comments, on='wt_num')\n",
    "text_df = text_df[['user_id','genre','comment']]\n",
    "X_train, X_test, y_train, y_test = train_test_split(text_df.comment, text_df.genre, \\\n",
    "                                                    test_size = 0.1, random_state =1)\n",
    "#10%를 테스트로\n",
    "X_train=X_train.values.astype('U')\n",
    "X_test=X_test.values.astype('U')\n",
    "\n",
    "\n",
    "\n",
    "a = Pipeline([\n",
    "    ('vect', TfidfVectorizer()),\n",
    "    ('clf', MultinomialNB(alpha=0.01)) # alpha -> 스무딩\n",
    "])\n",
    "model = a.fit(X_train, y_train)\n",
    "y_pred = model.predict(X_test)\n",
    "confusion_matrix(y_test, y_pred)"
   ]
  },
  {
   "cell_type": "code",
   "execution_count": 39,
   "metadata": {},
   "outputs": [
    {
     "name": "stdout",
     "output_type": "stream",
     "text": [
      "             precision    recall  f1-score   support\n",
      "\n",
      "     action       0.51      0.68      0.58     18538\n",
      "      comic       0.62      0.61      0.62     17429\n",
      "      daily       0.64      0.18      0.28      1844\n",
      "      drama       0.60      0.54      0.57     15220\n",
      "    fantasy       0.61      0.38      0.47      7347\n",
      " historical       0.45      0.05      0.09       204\n",
      "       pure       0.78      0.22      0.35       902\n",
      "sensibility       0.00      0.00      0.00        57\n",
      "     sports       0.04      0.02      0.02        63\n",
      "     thrill       0.67      0.71      0.69     11947\n",
      "\n",
      "avg / total       0.60      0.59      0.58     73551\n",
      "\n"
     ]
    },
    {
     "name": "stderr",
     "output_type": "stream",
     "text": [
      "/usr/local/Cellar/python3/3.6.4_2/Frameworks/Python.framework/Versions/3.6/lib/python3.6/site-packages/sklearn/metrics/classification.py:1135: UndefinedMetricWarning: Precision and F-score are ill-defined and being set to 0.0 in labels with no predicted samples.\n",
      "  'precision', 'predicted', average, warn_for)\n"
     ]
    }
   ],
   "source": [
    "print(classification_report(y_test, y_pred))\n"
   ]
  },
  {
   "cell_type": "code",
   "execution_count": 60,
   "metadata": {},
   "outputs": [
    {
     "data": {
      "text/plain": [
       "array(['daily', 'comic'], dtype='<U11')"
      ]
     },
     "execution_count": 60,
     "metadata": {},
     "output_type": "execute_result"
    }
   ],
   "source": [
    "str1='남자애들이라고 다를줄 아냐?남자애들도 사람이다.결국 양미정 너의 실체를 알고 떠나갈껄?그리고 남자애들은 진심이 아닌데 눈에 보이는고만 무슨..'\n",
    "str2='전여친 앞에 속옷깐 경우 그리고 팬티조차없는 주영이 ㅋㅋㅋ'\n",
    "model.predict([str1, str2])"
   ]
  },
  {
   "cell_type": "code",
   "execution_count": null,
   "metadata": {},
   "outputs": [],
   "source": []
  },
  {
   "cell_type": "code",
   "execution_count": null,
   "metadata": {},
   "outputs": [],
   "source": []
  },
  {
   "cell_type": "code",
   "execution_count": null,
   "metadata": {},
   "outputs": [],
   "source": []
  },
  {
   "cell_type": "code",
   "execution_count": null,
   "metadata": {},
   "outputs": [],
   "source": []
  },
  {
   "cell_type": "code",
   "execution_count": null,
   "metadata": {},
   "outputs": [],
   "source": []
  },
  {
   "cell_type": "code",
   "execution_count": null,
   "metadata": {},
   "outputs": [],
   "source": []
  },
  {
   "cell_type": "code",
   "execution_count": null,
   "metadata": {},
   "outputs": [],
   "source": []
  },
  {
   "cell_type": "markdown",
   "metadata": {},
   "source": [
    "# CountVectorizer"
   ]
  },
  {
   "cell_type": "code",
   "execution_count": 63,
   "metadata": {
    "scrolled": true
   },
   "outputs": [
    {
     "name": "stdout",
     "output_type": "stream",
     "text": [
      "X_train:\n",
      "<661950x1154941 sparse matrix of type '<class 'numpy.int64'>'\n",
      "\twith 5091098 stored elements in Compressed Sparse Row format>\n"
     ]
    }
   ],
   "source": [
    "from sklearn.feature_extraction.text import CountVectorizer\n",
    "X_train, X_test, y_train, y_test = train_test_split(text_df.comment, text_df.genre, \\\n",
    "                                                    test_size = 0.1, random_state =1)\n",
    "X_train=X_train.values.astype('U')\n",
    "X_test=X_test.values.astype('U')\n",
    "\n",
    "vect = CountVectorizer().fit(X_train)\n",
    "X_train = vect.transform(X_train)\n",
    "print(\"X_train:\\n{}\".format(repr(X_train)))"
   ]
  },
  {
   "cell_type": "code",
   "execution_count": 64,
   "metadata": {},
   "outputs": [
    {
     "name": "stdout",
     "output_type": "stream",
     "text": [
      "특성 개수: 1154941\n",
      "20010에서 20030까지 특성:\n",
      "['40컷이야', '40컷인', '40컷인건데', '40컷인데', '40컷입니다', '40컷정도면', '40컷평균인데', '40키로고', '40키로대', '40키로대인데', '40키로에', '40키로이럼', '40키론데', '40퍼', '40퍼나되는게', '40퍼넘는', '40퍼넘는데', '40퍼는', '40퍼라는', '40퍼로']\n",
      "매 2000번째 특성:\n",
      "['00', '40층에서도', 'xx에x', 'ㅋㅋㅋㅋ한국지리', '갈겨버리면', '개인차인', '경찰님들', '관찰하다니', '그때마다학교있을시간이였어요', '기릿', '꿀꿀이죽', '날린건', '너무했다ㅜㅜ', '뉴미야', '단장은', '더아픈갑다', '되살아나도', '딸이었으면', '리태네', '말잘안하던데', '메너챗', '못하게해', '뮤ㅓㄴ데누군데', '반반도', '버는데에', '보안요소일텐데', '불러보자', '빵구', '산군이라', '생활하는사람', '소녀같이', '슈퍼연근이라', '실제사람들인데', '아ㅋㅋㅋㅋㅋ왜', '안고있는장면은', '알려주샘', '어떻게해서', '여길게', '예민충이라고', '왜구래ㅜㅜ', '워마드가', '이가자그린', '이카르디라는사람', '입고드가냐', '작진', '저랬나보다ㄷㄷ', '정우눈에', '좋아하는게', '지ㄹrㄹ하지마시죠', '집이였자나', '챙겨주면서도', '충족시키고싶은거야', '큭ㅠ', '틀었겟지', '표현의자유가있어', '학업수준부터', '행동을봐', '활자는']\n"
     ]
    }
   ],
   "source": [
    "feature_names = vect.get_feature_names()\n",
    "print(\"특성 개수: {}\".format(len(feature_names)))\n",
    "print(\"20010에서 20030까지 특성:\\n{}\".format(feature_names[20010:20030]))\n",
    "print(\"매 2000번째 특성:\\n{}\".format(feature_names[::20000]))"
   ]
  },
  {
   "cell_type": "code",
   "execution_count": null,
   "metadata": {},
   "outputs": [],
   "source": []
  },
  {
   "cell_type": "code",
   "execution_count": null,
   "metadata": {},
   "outputs": [],
   "source": []
  },
  {
   "cell_type": "code",
   "execution_count": null,
   "metadata": {},
   "outputs": [],
   "source": []
  },
  {
   "cell_type": "code",
   "execution_count": null,
   "metadata": {},
   "outputs": [],
   "source": []
  }
 ],
 "metadata": {
  "kernelspec": {
   "display_name": "Python 3",
   "language": "python",
   "name": "python3"
  },
  "language_info": {
   "codemirror_mode": {
    "name": "ipython",
    "version": 3
   },
   "file_extension": ".py",
   "mimetype": "text/x-python",
   "name": "python",
   "nbconvert_exporter": "python",
   "pygments_lexer": "ipython3",
   "version": "3.6.4"
  }
 },
 "nbformat": 4,
 "nbformat_minor": 2
}
