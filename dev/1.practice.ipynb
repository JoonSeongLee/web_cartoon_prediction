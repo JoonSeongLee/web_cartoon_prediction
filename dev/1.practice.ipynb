{
 "cells": [
  {
   "cell_type": "code",
   "execution_count": 1,
   "metadata": {},
   "outputs": [],
   "source": [
    "import warnings\n",
    "warnings.filterwarnings(\"ignore\")"
   ]
  },
  {
   "cell_type": "markdown",
   "metadata": {},
   "source": [
    "###  info_wt.csv : 웹툰의 정보 (타이틀, 작가, 홧수 등)\n",
    "### comments.csv : 댓글의 정보 (유저id, 댓글, 댓글이 쓰여진 웹툰 등)"
   ]
  },
  {
   "cell_type": "code",
   "execution_count": 2,
   "metadata": {},
   "outputs": [],
   "source": [
    "info_wt = pd.read_csv('info_wt.csv')\n",
    "comments = pd.read_csv('comments.csv')"
   ]
  },
  {
   "cell_type": "code",
   "execution_count": 3,
   "metadata": {},
   "outputs": [
    {
     "data": {
      "text/html": [
       "<div>\n",
       "<style scoped>\n",
       "    .dataframe tbody tr th:only-of-type {\n",
       "        vertical-align: middle;\n",
       "    }\n",
       "\n",
       "    .dataframe tbody tr th {\n",
       "        vertical-align: top;\n",
       "    }\n",
       "\n",
       "    .dataframe thead th {\n",
       "        text-align: right;\n",
       "    }\n",
       "</style>\n",
       "<table border=\"1\" class=\"dataframe\">\n",
       "  <thead>\n",
       "    <tr style=\"text-align: right;\">\n",
       "      <th></th>\n",
       "      <th>wt_num</th>\n",
       "      <th>title</th>\n",
       "      <th>score</th>\n",
       "      <th>artist</th>\n",
       "      <th>genre</th>\n",
       "      <th>chapter</th>\n",
       "      <th>reader</th>\n",
       "    </tr>\n",
       "  </thead>\n",
       "  <tbody>\n",
       "    <tr>\n",
       "      <th>0</th>\n",
       "      <td>0</td>\n",
       "      <td>신의 탑</td>\n",
       "      <td>9.93</td>\n",
       "      <td>SIU</td>\n",
       "      <td>fantasy</td>\n",
       "      <td>380</td>\n",
       "      <td>982</td>\n",
       "    </tr>\n",
       "    <tr>\n",
       "      <th>1</th>\n",
       "      <td>1</td>\n",
       "      <td>뷰티풀 군바리</td>\n",
       "      <td>9.82</td>\n",
       "      <td>설이 / 윤성원</td>\n",
       "      <td>drama</td>\n",
       "      <td>161</td>\n",
       "      <td>2332</td>\n",
       "    </tr>\n",
       "    <tr>\n",
       "      <th>2</th>\n",
       "      <td>2</td>\n",
       "      <td>윈드브레이커</td>\n",
       "      <td>9.96</td>\n",
       "      <td>조용석</td>\n",
       "      <td>drama</td>\n",
       "      <td>212</td>\n",
       "      <td>550</td>\n",
       "    </tr>\n",
       "    <tr>\n",
       "      <th>3</th>\n",
       "      <td>3</td>\n",
       "      <td>소녀의 세계</td>\n",
       "      <td>9.98</td>\n",
       "      <td>모랑지</td>\n",
       "      <td>daily</td>\n",
       "      <td>141</td>\n",
       "      <td>355</td>\n",
       "    </tr>\n",
       "    <tr>\n",
       "      <th>4</th>\n",
       "      <td>5</td>\n",
       "      <td>평범한 8반</td>\n",
       "      <td>9.95</td>\n",
       "      <td>영파카</td>\n",
       "      <td>comic</td>\n",
       "      <td>213</td>\n",
       "      <td>485</td>\n",
       "    </tr>\n",
       "  </tbody>\n",
       "</table>\n",
       "</div>"
      ],
      "text/plain": [
       "   wt_num    title  score    artist    genre  chapter  reader\n",
       "0       0     신의 탑   9.93       SIU  fantasy      380     982\n",
       "1       1  뷰티풀 군바리   9.82  설이 / 윤성원    drama      161    2332\n",
       "2       2   윈드브레이커   9.96       조용석    drama      212     550\n",
       "3       3   소녀의 세계   9.98       모랑지    daily      141     355\n",
       "4       5   평범한 8반   9.95       영파카    comic      213     485"
      ]
     },
     "execution_count": 3,
     "metadata": {},
     "output_type": "execute_result"
    }
   ],
   "source": [
    "info_wt[:5]"
   ]
  },
  {
   "cell_type": "code",
   "execution_count": 4,
   "metadata": {},
   "outputs": [
    {
     "data": {
      "text/html": [
       "<div>\n",
       "<style scoped>\n",
       "    .dataframe tbody tr th:only-of-type {\n",
       "        vertical-align: middle;\n",
       "    }\n",
       "\n",
       "    .dataframe tbody tr th {\n",
       "        vertical-align: top;\n",
       "    }\n",
       "\n",
       "    .dataframe thead th {\n",
       "        text-align: right;\n",
       "    }\n",
       "</style>\n",
       "<table border=\"1\" class=\"dataframe\">\n",
       "  <thead>\n",
       "    <tr style=\"text-align: right;\">\n",
       "      <th></th>\n",
       "      <th>chapter</th>\n",
       "      <th>user_id</th>\n",
       "      <th>comment</th>\n",
       "      <th>like</th>\n",
       "      <th>dislike</th>\n",
       "      <th>wt_num</th>\n",
       "    </tr>\n",
       "  </thead>\n",
       "  <tbody>\n",
       "    <tr>\n",
       "      <th>735496</th>\n",
       "      <td>16</td>\n",
       "      <td>정예****(yeji****)</td>\n",
       "      <td>나라야...포기하면 협박 하겠어</td>\n",
       "      <td>0</td>\n",
       "      <td>0</td>\n",
       "      <td>191</td>\n",
       "    </tr>\n",
       "    <tr>\n",
       "      <th>735497</th>\n",
       "      <td>16</td>\n",
       "      <td>정예****(yeji****)</td>\n",
       "      <td>나라야!!!니가 성윤이를 포기하면 내가 가지게 될것이야!!!!</td>\n",
       "      <td>0</td>\n",
       "      <td>1</td>\n",
       "      <td>191</td>\n",
       "    </tr>\n",
       "    <tr>\n",
       "      <th>735498</th>\n",
       "      <td>16</td>\n",
       "      <td>정예****(yeji****)</td>\n",
       "      <td>나라하고 예진하고 성윤이를 두고 삼각 관계라면 내가 성윤이를 가지겠어!!!</td>\n",
       "      <td>0</td>\n",
       "      <td>3</td>\n",
       "      <td>191</td>\n",
       "    </tr>\n",
       "    <tr>\n",
       "      <th>735499</th>\n",
       "      <td>16</td>\n",
       "      <td>민트****(skie****)</td>\n",
       "      <td>태호가 왜그래?하고 얼굴들이밀때 나도 깜놀 ㅋㅋ\\n전에 성윤이가 최날이랑 버스 나란...</td>\n",
       "      <td>2</td>\n",
       "      <td>0</td>\n",
       "      <td>191</td>\n",
       "    </tr>\n",
       "    <tr>\n",
       "      <th>735500</th>\n",
       "      <td>16</td>\n",
       "      <td>이경****(jpmj****)</td>\n",
       "      <td>옹</td>\n",
       "      <td>1</td>\n",
       "      <td>0</td>\n",
       "      <td>191</td>\n",
       "    </tr>\n",
       "  </tbody>\n",
       "</table>\n",
       "</div>"
      ],
      "text/plain": [
       "        chapter           user_id  \\\n",
       "735496       16  정예****(yeji****)   \n",
       "735497       16  정예****(yeji****)   \n",
       "735498       16  정예****(yeji****)   \n",
       "735499       16  민트****(skie****)   \n",
       "735500       16  이경****(jpmj****)   \n",
       "\n",
       "                                                  comment  like  dislike  \\\n",
       "735496                                  나라야...포기하면 협박 하겠어     0        0   \n",
       "735497                 나라야!!!니가 성윤이를 포기하면 내가 가지게 될것이야!!!!     0        1   \n",
       "735498          나라하고 예진하고 성윤이를 두고 삼각 관계라면 내가 성윤이를 가지겠어!!!     0        3   \n",
       "735499  태호가 왜그래?하고 얼굴들이밀때 나도 깜놀 ㅋㅋ\\n전에 성윤이가 최날이랑 버스 나란...     2        0   \n",
       "735500                                                  옹     1        0   \n",
       "\n",
       "        wt_num  \n",
       "735496     191  \n",
       "735497     191  \n",
       "735498     191  \n",
       "735499     191  \n",
       "735500     191  "
      ]
     },
     "execution_count": 4,
     "metadata": {},
     "output_type": "execute_result"
    }
   ],
   "source": [
    "comments[-5:]"
   ]
  },
  {
   "cell_type": "code",
   "execution_count": 5,
   "metadata": {},
   "outputs": [
    {
     "name": "stdout",
     "output_type": "stream",
     "text": [
      "user의 수 :  39171\n",
      "웹툰의 수  :  139\n",
      "댓글의 수  :  735501\n"
     ]
    }
   ],
   "source": [
    "print('user의 수 : ', len(set(comments['user_id'])))\n",
    "print('웹툰의 수  : ', len(set(comments['wt_num'])))\n",
    "print('댓글의 수  : ', len(comments))"
   ]
  },
  {
   "cell_type": "code",
   "execution_count": 6,
   "metadata": {},
   "outputs": [
    {
     "data": {
      "text/html": [
       "<div>\n",
       "<style scoped>\n",
       "    .dataframe tbody tr th:only-of-type {\n",
       "        vertical-align: middle;\n",
       "    }\n",
       "\n",
       "    .dataframe tbody tr th {\n",
       "        vertical-align: top;\n",
       "    }\n",
       "\n",
       "    .dataframe thead th {\n",
       "        text-align: right;\n",
       "    }\n",
       "</style>\n",
       "<table border=\"1\" class=\"dataframe\">\n",
       "  <thead>\n",
       "    <tr style=\"text-align: right;\">\n",
       "      <th></th>\n",
       "      <th>chapter</th>\n",
       "      <th>like</th>\n",
       "      <th>dislike</th>\n",
       "      <th>wt_num</th>\n",
       "    </tr>\n",
       "  </thead>\n",
       "  <tbody>\n",
       "    <tr>\n",
       "      <th>count</th>\n",
       "      <td>735501.000000</td>\n",
       "      <td>735501.000000</td>\n",
       "      <td>735501.000000</td>\n",
       "      <td>735501.000000</td>\n",
       "    </tr>\n",
       "    <tr>\n",
       "      <th>mean</th>\n",
       "      <td>157.972385</td>\n",
       "      <td>58.724339</td>\n",
       "      <td>3.004727</td>\n",
       "      <td>87.920857</td>\n",
       "    </tr>\n",
       "    <tr>\n",
       "      <th>std</th>\n",
       "      <td>208.101928</td>\n",
       "      <td>1014.708363</td>\n",
       "      <td>39.715578</td>\n",
       "      <td>54.049251</td>\n",
       "    </tr>\n",
       "    <tr>\n",
       "      <th>min</th>\n",
       "      <td>1.000000</td>\n",
       "      <td>0.000000</td>\n",
       "      <td>0.000000</td>\n",
       "      <td>0.000000</td>\n",
       "    </tr>\n",
       "    <tr>\n",
       "      <th>25%</th>\n",
       "      <td>23.000000</td>\n",
       "      <td>0.000000</td>\n",
       "      <td>0.000000</td>\n",
       "      <td>47.000000</td>\n",
       "    </tr>\n",
       "    <tr>\n",
       "      <th>50%</th>\n",
       "      <td>121.000000</td>\n",
       "      <td>1.000000</td>\n",
       "      <td>0.000000</td>\n",
       "      <td>86.000000</td>\n",
       "    </tr>\n",
       "    <tr>\n",
       "      <th>75%</th>\n",
       "      <td>209.000000</td>\n",
       "      <td>3.000000</td>\n",
       "      <td>2.000000</td>\n",
       "      <td>130.000000</td>\n",
       "    </tr>\n",
       "    <tr>\n",
       "      <th>max</th>\n",
       "      <td>1215.000000</td>\n",
       "      <td>111989.000000</td>\n",
       "      <td>15576.000000</td>\n",
       "      <td>191.000000</td>\n",
       "    </tr>\n",
       "  </tbody>\n",
       "</table>\n",
       "</div>"
      ],
      "text/plain": [
       "             chapter           like        dislike         wt_num\n",
       "count  735501.000000  735501.000000  735501.000000  735501.000000\n",
       "mean      157.972385      58.724339       3.004727      87.920857\n",
       "std       208.101928    1014.708363      39.715578      54.049251\n",
       "min         1.000000       0.000000       0.000000       0.000000\n",
       "25%        23.000000       0.000000       0.000000      47.000000\n",
       "50%       121.000000       1.000000       0.000000      86.000000\n",
       "75%       209.000000       3.000000       2.000000     130.000000\n",
       "max      1215.000000  111989.000000   15576.000000     191.000000"
      ]
     },
     "execution_count": 6,
     "metadata": {},
     "output_type": "execute_result"
    }
   ],
   "source": [
    "comments.describe()"
   ]
  },
  {
   "cell_type": "code",
   "execution_count": 7,
   "metadata": {},
   "outputs": [],
   "source": [
    "import statsmodels.api as sm"
   ]
  },
  {
   "cell_type": "code",
   "execution_count": 8,
   "metadata": {},
   "outputs": [],
   "source": [
    "y = info_wt[[\"reader\"]]"
   ]
  },
  {
   "cell_type": "code",
   "execution_count": 9,
   "metadata": {
    "scrolled": false
   },
   "outputs": [],
   "source": [
    "model = sm.OLS.from_formula(\"reader ~ C(artist)\", info_wt)\n",
    "result = model.fit()\n",
    "# print(result.summary())"
   ]
  },
  {
   "cell_type": "code",
   "execution_count": 10,
   "metadata": {},
   "outputs": [],
   "source": [
    "comments_1 = comments[['user_id','wt_num']]\n",
    "comments_1['count'] = 1\n",
    "comments_1 = comments_1.groupby(['user_id','wt_num']).sum()"
   ]
  },
  {
   "cell_type": "code",
   "execution_count": 11,
   "metadata": {},
   "outputs": [],
   "source": [
    "user_id = list(set(comments['user_id']))\n",
    "wt_num = list(set(comments['wt_num']))"
   ]
  },
  {
   "cell_type": "markdown",
   "metadata": {},
   "source": [
    "### 웹툰마다 댓글을 몇개 썼는지 보는 테이블"
   ]
  },
  {
   "cell_type": "code",
   "execution_count": 12,
   "metadata": {},
   "outputs": [],
   "source": [
    "user_df = pd.DataFrame(data = 0,index = user_id, columns= wt_num)"
   ]
  },
  {
   "cell_type": "code",
   "execution_count": 13,
   "metadata": {},
   "outputs": [],
   "source": [
    "for id in user_id :\n",
    "    numwt = list(comments_1.loc[id].index)\n",
    "    for num in numwt :\n",
    "        user_df.loc[id][num] = int(comments_1.loc[id].loc[num])"
   ]
  },
  {
   "cell_type": "code",
   "execution_count": 14,
   "metadata": {},
   "outputs": [
    {
     "data": {
      "text/html": [
       "<div>\n",
       "<style scoped>\n",
       "    .dataframe tbody tr th:only-of-type {\n",
       "        vertical-align: middle;\n",
       "    }\n",
       "\n",
       "    .dataframe tbody tr th {\n",
       "        vertical-align: top;\n",
       "    }\n",
       "\n",
       "    .dataframe thead th {\n",
       "        text-align: right;\n",
       "    }\n",
       "</style>\n",
       "<table border=\"1\" class=\"dataframe\">\n",
       "  <thead>\n",
       "    <tr style=\"text-align: right;\">\n",
       "      <th></th>\n",
       "      <th>0</th>\n",
       "      <th>1</th>\n",
       "      <th>2</th>\n",
       "      <th>3</th>\n",
       "      <th>5</th>\n",
       "      <th>6</th>\n",
       "      <th>7</th>\n",
       "      <th>8</th>\n",
       "      <th>9</th>\n",
       "      <th>10</th>\n",
       "      <th>...</th>\n",
       "      <th>180</th>\n",
       "      <th>182</th>\n",
       "      <th>183</th>\n",
       "      <th>184</th>\n",
       "      <th>185</th>\n",
       "      <th>186</th>\n",
       "      <th>187</th>\n",
       "      <th>188</th>\n",
       "      <th>190</th>\n",
       "      <th>191</th>\n",
       "    </tr>\n",
       "  </thead>\n",
       "  <tbody>\n",
       "    <tr>\n",
       "      <th>인간****(seoy****)</th>\n",
       "      <td>0</td>\n",
       "      <td>0</td>\n",
       "      <td>0</td>\n",
       "      <td>0</td>\n",
       "      <td>0</td>\n",
       "      <td>0</td>\n",
       "      <td>0</td>\n",
       "      <td>0</td>\n",
       "      <td>0</td>\n",
       "      <td>0</td>\n",
       "      <td>...</td>\n",
       "      <td>0</td>\n",
       "      <td>0</td>\n",
       "      <td>0</td>\n",
       "      <td>0</td>\n",
       "      <td>0</td>\n",
       "      <td>0</td>\n",
       "      <td>0</td>\n",
       "      <td>0</td>\n",
       "      <td>0</td>\n",
       "      <td>0</td>\n",
       "    </tr>\n",
       "    <tr>\n",
       "      <th>이영****(soap****)</th>\n",
       "      <td>0</td>\n",
       "      <td>0</td>\n",
       "      <td>0</td>\n",
       "      <td>0</td>\n",
       "      <td>0</td>\n",
       "      <td>0</td>\n",
       "      <td>0</td>\n",
       "      <td>0</td>\n",
       "      <td>0</td>\n",
       "      <td>0</td>\n",
       "      <td>...</td>\n",
       "      <td>0</td>\n",
       "      <td>0</td>\n",
       "      <td>0</td>\n",
       "      <td>0</td>\n",
       "      <td>0</td>\n",
       "      <td>0</td>\n",
       "      <td>0</td>\n",
       "      <td>0</td>\n",
       "      <td>0</td>\n",
       "      <td>0</td>\n",
       "    </tr>\n",
       "    <tr>\n",
       "      <th>Ye****(woai****)</th>\n",
       "      <td>0</td>\n",
       "      <td>0</td>\n",
       "      <td>0</td>\n",
       "      <td>0</td>\n",
       "      <td>0</td>\n",
       "      <td>0</td>\n",
       "      <td>0</td>\n",
       "      <td>0</td>\n",
       "      <td>0</td>\n",
       "      <td>0</td>\n",
       "      <td>...</td>\n",
       "      <td>0</td>\n",
       "      <td>0</td>\n",
       "      <td>0</td>\n",
       "      <td>0</td>\n",
       "      <td>0</td>\n",
       "      <td>0</td>\n",
       "      <td>0</td>\n",
       "      <td>0</td>\n",
       "      <td>0</td>\n",
       "      <td>0</td>\n",
       "    </tr>\n",
       "    <tr>\n",
       "      <th>치느****(higu****)</th>\n",
       "      <td>0</td>\n",
       "      <td>0</td>\n",
       "      <td>0</td>\n",
       "      <td>0</td>\n",
       "      <td>0</td>\n",
       "      <td>0</td>\n",
       "      <td>0</td>\n",
       "      <td>0</td>\n",
       "      <td>0</td>\n",
       "      <td>0</td>\n",
       "      <td>...</td>\n",
       "      <td>0</td>\n",
       "      <td>0</td>\n",
       "      <td>0</td>\n",
       "      <td>0</td>\n",
       "      <td>0</td>\n",
       "      <td>0</td>\n",
       "      <td>0</td>\n",
       "      <td>0</td>\n",
       "      <td>0</td>\n",
       "      <td>0</td>\n",
       "    </tr>\n",
       "    <tr>\n",
       "      <th>하령****(con9****)</th>\n",
       "      <td>0</td>\n",
       "      <td>0</td>\n",
       "      <td>0</td>\n",
       "      <td>0</td>\n",
       "      <td>0</td>\n",
       "      <td>0</td>\n",
       "      <td>0</td>\n",
       "      <td>0</td>\n",
       "      <td>0</td>\n",
       "      <td>0</td>\n",
       "      <td>...</td>\n",
       "      <td>0</td>\n",
       "      <td>0</td>\n",
       "      <td>0</td>\n",
       "      <td>0</td>\n",
       "      <td>0</td>\n",
       "      <td>0</td>\n",
       "      <td>0</td>\n",
       "      <td>0</td>\n",
       "      <td>0</td>\n",
       "      <td>0</td>\n",
       "    </tr>\n",
       "  </tbody>\n",
       "</table>\n",
       "<p>5 rows × 139 columns</p>\n",
       "</div>"
      ],
      "text/plain": [
       "                  0    1    2    3    5    6    7    8    9    10  ...   180  \\\n",
       "인간****(seoy****)    0    0    0    0    0    0    0    0    0    0 ...     0   \n",
       "이영****(soap****)    0    0    0    0    0    0    0    0    0    0 ...     0   \n",
       "Ye****(woai****)    0    0    0    0    0    0    0    0    0    0 ...     0   \n",
       "치느****(higu****)    0    0    0    0    0    0    0    0    0    0 ...     0   \n",
       "하령****(con9****)    0    0    0    0    0    0    0    0    0    0 ...     0   \n",
       "\n",
       "                  182  183  184  185  186  187  188  190  191  \n",
       "인간****(seoy****)    0    0    0    0    0    0    0    0    0  \n",
       "이영****(soap****)    0    0    0    0    0    0    0    0    0  \n",
       "Ye****(woai****)    0    0    0    0    0    0    0    0    0  \n",
       "치느****(higu****)    0    0    0    0    0    0    0    0    0  \n",
       "하령****(con9****)    0    0    0    0    0    0    0    0    0  \n",
       "\n",
       "[5 rows x 139 columns]"
      ]
     },
     "metadata": {},
     "output_type": "display_data"
    },
    {
     "data": {
      "text/plain": [
       "39171"
      ]
     },
     "execution_count": 14,
     "metadata": {},
     "output_type": "execute_result"
    }
   ],
   "source": [
    "display(user_df.head())\n",
    "len(user_df)"
   ]
  },
  {
   "cell_type": "markdown",
   "metadata": {},
   "source": [
    "### 댓글을 썼는지 안썼는지 만 판단하는 테이블"
   ]
  },
  {
   "cell_type": "code",
   "execution_count": 15,
   "metadata": {},
   "outputs": [],
   "source": [
    "user_wt_matrix = user_df.copy()"
   ]
  },
  {
   "cell_type": "code",
   "execution_count": 16,
   "metadata": {},
   "outputs": [],
   "source": [
    "user_wt_matrix1 = user_wt_matrix.copy()\n",
    "for i in range(len(user_wt_matrix1)):\n",
    "    try:\n",
    "        for j in range(len(user_wt_matrix1[i])):\n",
    "            if user_wt_matrix1[i][j] != 0:\n",
    "                user_wt_matrix1[i][j] = 1\n",
    "    except:\n",
    "        pass"
   ]
  },
  {
   "cell_type": "code",
   "execution_count": 17,
   "metadata": {},
   "outputs": [
    {
     "name": "stdout",
     "output_type": "stream",
     "text": [
      "1 개 이상의 웹툰에 댓글을 단 사람은 39171 명\n",
      "2 개 이상의 웹툰에 댓글을 단 사람은 12135 명\n",
      "3 개 이상의 웹툰에 댓글을 단 사람은 5774 명\n",
      "4 개 이상의 웹툰에 댓글을 단 사람은 3290 명\n",
      "5 개 이상의 웹툰에 댓글을 단 사람은 2150 명\n",
      "6 개 이상의 웹툰에 댓글을 단 사람은 1535 명\n",
      "7 개 이상의 웹툰에 댓글을 단 사람은 1121 명\n",
      "8 개 이상의 웹툰에 댓글을 단 사람은 873 명\n",
      "9 개 이상의 웹툰에 댓글을 단 사람은 683 명\n",
      "10 개 이상의 웹툰에 댓글을 단 사람은 535 명\n",
      "11 개 이상의 웹툰에 댓글을 단 사람은 437 명\n",
      "12 개 이상의 웹툰에 댓글을 단 사람은 345 명\n",
      "13 개 이상의 웹툰에 댓글을 단 사람은 285 명\n",
      "14 개 이상의 웹툰에 댓글을 단 사람은 236 명\n",
      "15 개 이상의 웹툰에 댓글을 단 사람은 210 명\n",
      "16 개 이상의 웹툰에 댓글을 단 사람은 184 명\n",
      "17 개 이상의 웹툰에 댓글을 단 사람은 163 명\n",
      "18 개 이상의 웹툰에 댓글을 단 사람은 141 명\n",
      "19 개 이상의 웹툰에 댓글을 단 사람은 122 명\n",
      "20 개 이상의 웹툰에 댓글을 단 사람은 104 명\n"
     ]
    }
   ],
   "source": [
    "for i in range(20):\n",
    "    n = len(user_wt_matrix1[user_wt_matrix1.sum(axis=1)>i])\n",
    "    print(i+1, \"개 이상의 웹툰에 댓글을 단 사람은\",n, \"명\")"
   ]
  },
  {
   "cell_type": "code",
   "execution_count": 18,
   "metadata": {
    "scrolled": false
   },
   "outputs": [
    {
     "name": "stdout",
     "output_type": "stream",
     "text": [
      "30 개 이상의 웹툰에 댓글을 단 사람은 44 명\n",
      "40 개 이상의 웹툰에 댓글을 단 사람은 20 명\n",
      "50 개 이상의 웹툰에 댓글을 단 사람은 6 명\n",
      "60 개 이상의 웹툰에 댓글을 단 사람은 4 명\n",
      "70 개 이상의 웹툰에 댓글을 단 사람은 3 명\n",
      "80 개 이상의 웹툰에 댓글을 단 사람은 1 명\n",
      "90 개 이상의 웹툰에 댓글을 단 사람은 1 명\n",
      "100 개 이상의 웹툰에 댓글을 단 사람은 1 명\n",
      "110 개 이상의 웹툰에 댓글을 단 사람은 1 명\n",
      "120 개 이상의 웹툰에 댓글을 단 사람은 0 명\n",
      "130 개 이상의 웹툰에 댓글을 단 사람은 0 명\n"
     ]
    }
   ],
   "source": [
    "for i in range(29,130,10):\n",
    "    n = len(user_wt_matrix1[user_wt_matrix1.sum(axis=1)>i])\n",
    "    print(i+1, \"개 이상의 웹툰에 댓글을 단 사람은\",n, \"명\")"
   ]
  },
  {
   "cell_type": "markdown",
   "metadata": {},
   "source": [
    "### cosine 유사도를 통한 추천 시스템"
   ]
  },
  {
   "cell_type": "code",
   "execution_count": 19,
   "metadata": {},
   "outputs": [],
   "source": [
    "from scipy.spatial import distance\n",
    "from sklearn.preprocessing import scale\n",
    "\n",
    "def find_sim_user(user_id):\n",
    "\n",
    "    user_wt_matrix = user_df.copy()\n",
    "    def cosine_distance(a, b):\n",
    "        return 1 - distance.cosine(a, b)\n",
    "    vector_1 = user_wt_matrix.copy()\n",
    "    vector_1 = scale(vector_1)\n",
    "    scale_df = pd.DataFrame(data = vector_1, index = user_wt_matrix.index, columns = user_wt_matrix.columns)\n",
    "\n",
    "    empty = np.zeros((1, len(scale_df)))\n",
    "    scale_df.index = range(len(scale_df))\n",
    "    userls = list(set(comments['user_id']))\n",
    "    ls_num_user = pd.DataFrame(userls)\n",
    "    ls_user_num = pd.DataFrame(data = ls_num_user.index, index = list(ls_num_user[0]))\n",
    "    ls_user_num = ls_user_num.loc[user_id][0]\n",
    "\n",
    "    for i in range(len(empty[0])):\n",
    "        if i != ls_user_num:\n",
    "            empty[0, i] = cosine_distance(scale_df.loc[ls_user_num], scale_df.loc[i])\n",
    "    sim_user_num = []\n",
    "    for _ in range(300):\n",
    "        a = empty.argmax()\n",
    "        sim_user_num.append(a)\n",
    "        empty[0][a] = 0\n",
    "    sim_user_id = [(ls_num_user.loc[i][0]) for i in sim_user_num]\n",
    "    return sim_user_id"
   ]
  },
  {
   "cell_type": "code",
   "execution_count": 20,
   "metadata": {},
   "outputs": [],
   "source": [
    "def is_user_wt(user_id):\n",
    "    df = pd.DataFrame(user_df.loc[user_id])\n",
    "    wtls = list(df[df[user_id] != 0].index)\n",
    "    wt_title = []\n",
    "    for wtnum in wtls:\n",
    "        wt_title.append(info_wt[info_wt['wt_num']==wtnum]['title'].values[0])\n",
    "    return wt_title"
   ]
  },
  {
   "cell_type": "code",
   "execution_count": 21,
   "metadata": {},
   "outputs": [],
   "source": [
    "def recommend_webtoon(user_id):\n",
    "    ls = []\n",
    "    print(user_id,'은', is_user_wt(user_id), '을 즐겨봅니다.')\n",
    "    for id in find_sim_user(user_id):\n",
    "        for n in range(len(is_user_wt(id))):\n",
    "            ls.append(is_user_wt(id)[n])\n",
    "\n",
    "    df = pd.DataFrame(ls, columns= ['title'])\n",
    "    df = df.groupby(by='title').size().reset_index(name='count').sort_values('count', ascending=False) \n",
    "    for wt in is_user_wt(user_id):\n",
    "        df = df[df['title'] != wt]\n",
    "    if len(df) == 0:\n",
    "        print(user_id,'은 데이터가 적어서 추천할 수 없습니다.')\n",
    "    return df.reset_index()"
   ]
  },
  {
   "cell_type": "code",
   "execution_count": 26,
   "metadata": {},
   "outputs": [],
   "source": [
    "df = comments.sample(3)\n",
    "sample = list(df['user_id'])"
   ]
  },
  {
   "cell_type": "code",
   "execution_count": 27,
   "metadata": {},
   "outputs": [
    {
     "name": "stdout",
     "output_type": "stream",
     "text": [
      "ni****(o_ob****) 은 ['성공한 덕후', '기기괴괴', '호랑이형님', '조의 영역'] 을 즐겨봅니다.\n"
     ]
    },
    {
     "data": {
      "text/html": [
       "<div>\n",
       "<style scoped>\n",
       "    .dataframe tbody tr th:only-of-type {\n",
       "        vertical-align: middle;\n",
       "    }\n",
       "\n",
       "    .dataframe tbody tr th {\n",
       "        vertical-align: top;\n",
       "    }\n",
       "\n",
       "    .dataframe thead th {\n",
       "        text-align: right;\n",
       "    }\n",
       "</style>\n",
       "<table border=\"1\" class=\"dataframe\">\n",
       "  <thead>\n",
       "    <tr style=\"text-align: right;\">\n",
       "      <th></th>\n",
       "      <th>title</th>\n",
       "      <th>count</th>\n",
       "    </tr>\n",
       "  </thead>\n",
       "  <tbody>\n",
       "    <tr>\n",
       "      <th>0</th>\n",
       "      <td>연애혁명</td>\n",
       "      <td>7</td>\n",
       "    </tr>\n",
       "    <tr>\n",
       "      <th>1</th>\n",
       "      <td>심연의 하늘 시즌5</td>\n",
       "      <td>6</td>\n",
       "    </tr>\n",
       "    <tr>\n",
       "      <th>2</th>\n",
       "      <td>그 판타지 세계에서 사는 법</td>\n",
       "      <td>4</td>\n",
       "    </tr>\n",
       "    <tr>\n",
       "      <th>3</th>\n",
       "      <td>덴마</td>\n",
       "      <td>3</td>\n",
       "    </tr>\n",
       "    <tr>\n",
       "      <th>4</th>\n",
       "      <td>어글리후드</td>\n",
       "      <td>2</td>\n",
       "    </tr>\n",
       "    <tr>\n",
       "      <th>5</th>\n",
       "      <td>외모지상주의</td>\n",
       "      <td>2</td>\n",
       "    </tr>\n",
       "    <tr>\n",
       "      <th>6</th>\n",
       "      <td>평범한 8반</td>\n",
       "      <td>1</td>\n",
       "    </tr>\n",
       "    <tr>\n",
       "      <th>7</th>\n",
       "      <td>진눈깨비 소년</td>\n",
       "      <td>1</td>\n",
       "    </tr>\n",
       "    <tr>\n",
       "      <th>8</th>\n",
       "      <td>전자오락수호대</td>\n",
       "      <td>1</td>\n",
       "    </tr>\n",
       "    <tr>\n",
       "      <th>9</th>\n",
       "      <td>여신강림</td>\n",
       "      <td>1</td>\n",
       "    </tr>\n",
       "  </tbody>\n",
       "</table>\n",
       "</div>"
      ],
      "text/plain": [
       "             title  count\n",
       "0             연애혁명      7\n",
       "1       심연의 하늘 시즌5      6\n",
       "2  그 판타지 세계에서 사는 법      4\n",
       "3               덴마      3\n",
       "4            어글리후드      2\n",
       "5           외모지상주의      2\n",
       "6           평범한 8반      1\n",
       "7          진눈깨비 소년      1\n",
       "8          전자오락수호대      1\n",
       "9             여신강림      1"
      ]
     },
     "metadata": {},
     "output_type": "display_data"
    },
    {
     "name": "stdout",
     "output_type": "stream",
     "text": [
      "냥꾹****(dlek****) 은 ['심연의 하늘 시즌5', '테러맨'] 을 즐겨봅니다.\n"
     ]
    },
    {
     "data": {
      "text/html": [
       "<div>\n",
       "<style scoped>\n",
       "    .dataframe tbody tr th:only-of-type {\n",
       "        vertical-align: middle;\n",
       "    }\n",
       "\n",
       "    .dataframe tbody tr th {\n",
       "        vertical-align: top;\n",
       "    }\n",
       "\n",
       "    .dataframe thead th {\n",
       "        text-align: right;\n",
       "    }\n",
       "</style>\n",
       "<table border=\"1\" class=\"dataframe\">\n",
       "  <thead>\n",
       "    <tr style=\"text-align: right;\">\n",
       "      <th></th>\n",
       "      <th>title</th>\n",
       "      <th>count</th>\n",
       "    </tr>\n",
       "  </thead>\n",
       "  <tbody>\n",
       "    <tr>\n",
       "      <th>0</th>\n",
       "      <td>연애혁명</td>\n",
       "      <td>4</td>\n",
       "    </tr>\n",
       "    <tr>\n",
       "      <th>1</th>\n",
       "      <td>그 판타지 세계에서 사는 법</td>\n",
       "      <td>2</td>\n",
       "    </tr>\n",
       "    <tr>\n",
       "      <th>2</th>\n",
       "      <td>호랑이형님</td>\n",
       "      <td>2</td>\n",
       "    </tr>\n",
       "    <tr>\n",
       "      <th>3</th>\n",
       "      <td>노블레스</td>\n",
       "      <td>1</td>\n",
       "    </tr>\n",
       "    <tr>\n",
       "      <th>4</th>\n",
       "      <td>성공한 덕후</td>\n",
       "      <td>1</td>\n",
       "    </tr>\n",
       "    <tr>\n",
       "      <th>5</th>\n",
       "      <td>어글리후드</td>\n",
       "      <td>1</td>\n",
       "    </tr>\n",
       "    <tr>\n",
       "      <th>6</th>\n",
       "      <td>외모지상주의</td>\n",
       "      <td>1</td>\n",
       "    </tr>\n",
       "    <tr>\n",
       "      <th>7</th>\n",
       "      <td>환상적인 소년</td>\n",
       "      <td>1</td>\n",
       "    </tr>\n",
       "  </tbody>\n",
       "</table>\n",
       "</div>"
      ],
      "text/plain": [
       "             title  count\n",
       "0             연애혁명      4\n",
       "1  그 판타지 세계에서 사는 법      2\n",
       "2            호랑이형님      2\n",
       "3             노블레스      1\n",
       "4           성공한 덕후      1\n",
       "5            어글리후드      1\n",
       "6           외모지상주의      1\n",
       "7          환상적인 소년      1"
      ]
     },
     "metadata": {},
     "output_type": "display_data"
    },
    {
     "name": "stdout",
     "output_type": "stream",
     "text": [
      "흰쥐****(tomm****) 은 ['환상적인 소년'] 을 즐겨봅니다.\n",
      "흰쥐****(tomm****) 은 데이터가 적어서 추천할 수 없습니다.\n"
     ]
    },
    {
     "data": {
      "text/html": [
       "<div>\n",
       "<style scoped>\n",
       "    .dataframe tbody tr th:only-of-type {\n",
       "        vertical-align: middle;\n",
       "    }\n",
       "\n",
       "    .dataframe tbody tr th {\n",
       "        vertical-align: top;\n",
       "    }\n",
       "\n",
       "    .dataframe thead th {\n",
       "        text-align: right;\n",
       "    }\n",
       "</style>\n",
       "<table border=\"1\" class=\"dataframe\">\n",
       "  <thead>\n",
       "    <tr style=\"text-align: right;\">\n",
       "      <th></th>\n",
       "      <th>title</th>\n",
       "      <th>count</th>\n",
       "    </tr>\n",
       "  </thead>\n",
       "  <tbody>\n",
       "  </tbody>\n",
       "</table>\n",
       "</div>"
      ],
      "text/plain": [
       "Empty DataFrame\n",
       "Columns: [title, count]\n",
       "Index: []"
      ]
     },
     "metadata": {},
     "output_type": "display_data"
    }
   ],
   "source": [
    "for id in sample:\n",
    "    df = recommend_webtoon(id)\n",
    "    df = df.drop(['index'],axis=1)\n",
    "    display(df.head(10))"
   ]
  },
  {
   "cell_type": "code",
   "execution_count": 28,
   "metadata": {},
   "outputs": [],
   "source": [
    "user_wt_matrix1\n",
    "empty_matrix = np.zeros((10, len(user_wt_matrix1))) # 샘플 10명\n",
    "users_index = user_wt_matrix1.index\n",
    "user_wt_matrix1.index = range(len(user_wt_matrix1))\n"
   ]
  },
  {
   "cell_type": "code",
   "execution_count": 29,
   "metadata": {},
   "outputs": [],
   "source": [
    "def cosine_distance(a, b):\n",
    "        return 1 - distance.cosine(a, b)\n",
    "for index_1, i in user_wt_matrix1[:10].iterrows():\n",
    "    for index_2, j in user_wt_matrix1[index_1+1:].iterrows():\n",
    "        empty_matrix[index_1, index_2] = cosine_distance(i, j)"
   ]
  },
  {
   "cell_type": "code",
   "execution_count": 30,
   "metadata": {},
   "outputs": [
    {
     "data": {
      "text/plain": [
       "array([[0., 0., 0., ..., 0., 0., 0.],\n",
       "       [0., 0., 0., ..., 0., 0., 0.],\n",
       "       [0., 0., 0., ..., 0., 0., 0.],\n",
       "       ...,\n",
       "       [0., 0., 0., ..., 0., 0., 0.],\n",
       "       [0., 0., 0., ..., 0., 0., 0.],\n",
       "       [0., 0., 0., ..., 0., 0., 0.]])"
      ]
     },
     "execution_count": 30,
     "metadata": {},
     "output_type": "execute_result"
    }
   ],
   "source": [
    "empty_matrix"
   ]
  },
  {
   "cell_type": "code",
   "execution_count": 31,
   "metadata": {},
   "outputs": [
    {
     "name": "stdout",
     "output_type": "stream",
     "text": [
      "0.8800000000000001\n"
     ]
    }
   ],
   "source": [
    "score_list = []\n",
    "for i in range(10):\n",
    "    ID_index = []\n",
    "    while len(ID_index) < 11:\n",
    "        if empty_matrix[i].argmax() >= 1:\n",
    "            empty_matrix[i, empty_matrix[i].argmax()] = 0\n",
    "        else:\n",
    "            ID_index.append(empty_matrix[i].argmax())\n",
    "            empty_matrix[i, empty_matrix[i].argmax()] = 0\n",
    "    data = user_wt_matrix1.loc[i]\n",
    "    predict = user_wt_matrix1.loc[ID_index].mean()\n",
    "    score = data[data > 0] - predict[data > 0]\n",
    "    score_list.append(np.absolute(score).sum()/len(score))\n",
    "print(np.array(score_list).mean())"
   ]
  },
  {
   "cell_type": "code",
   "execution_count": 32,
   "metadata": {},
   "outputs": [
    {
     "data": {
      "text/plain": [
       "[0.0, 1.0, 1.0, 1.0, 1.0, 1.0, 0.8, 1.0, 1.0, 1.0]"
      ]
     },
     "execution_count": 32,
     "metadata": {},
     "output_type": "execute_result"
    }
   ],
   "source": [
    "score_list"
   ]
  },
  {
   "cell_type": "code",
   "execution_count": 33,
   "metadata": {},
   "outputs": [
    {
     "data": {
      "text/plain": [
       "array([[0., 0., 0., ..., 0., 0., 0.],\n",
       "       [0., 0., 0., ..., 0., 0., 0.],\n",
       "       [0., 0., 0., ..., 0., 0., 0.],\n",
       "       ...,\n",
       "       [0., 0., 0., ..., 0., 0., 0.],\n",
       "       [0., 0., 0., ..., 0., 0., 0.],\n",
       "       [0., 0., 0., ..., 0., 0., 0.]])"
      ]
     },
     "execution_count": 33,
     "metadata": {},
     "output_type": "execute_result"
    }
   ],
   "source": [
    "empty_matrix"
   ]
  },
  {
   "cell_type": "code",
   "execution_count": null,
   "metadata": {},
   "outputs": [],
   "source": []
  }
 ],
 "metadata": {
  "kernelspec": {
   "display_name": "Python 3",
   "language": "python",
   "name": "python3"
  },
  "language_info": {
   "codemirror_mode": {
    "name": "ipython",
    "version": 3
   },
   "file_extension": ".py",
   "mimetype": "text/x-python",
   "name": "python",
   "nbconvert_exporter": "python",
   "pygments_lexer": "ipython3",
   "version": "3.6.4"
  }
 },
 "nbformat": 4,
 "nbformat_minor": 2
}
