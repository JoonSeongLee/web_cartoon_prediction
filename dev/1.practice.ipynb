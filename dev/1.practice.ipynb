{
 "cells": [
  {
   "cell_type": "code",
   "execution_count": 1,
   "metadata": {},
   "outputs": [],
   "source": [
    "import warnings\n",
    "warnings.filterwarnings(\"ignore\")"
   ]
  },
  {
   "cell_type": "code",
   "execution_count": 2,
   "metadata": {},
   "outputs": [],
   "source": [
    "info_wt = pd.read_csv('info_wt.csv')\n",
    "comments = pd.read_csv('comments.csv')"
   ]
  },
  {
   "cell_type": "code",
   "execution_count": 3,
   "metadata": {},
   "outputs": [
    {
     "name": "stdout",
     "output_type": "stream",
     "text": [
      "user의 수 :  39171\n",
      "웹툰의 수 :  139\n",
      "댓글의 수 :  735501\n"
     ]
    }
   ],
   "source": [
    "print('user의 수 : ', len(set(comments['user_id'])))\n",
    "print('웹툰의 수 : ', len(set(comments['wt_num'])))\n",
    "print('댓글의 수 : ', len(comments))"
   ]
  },
  {
   "cell_type": "code",
   "execution_count": 4,
   "metadata": {},
   "outputs": [
    {
     "data": {
      "text/html": [
       "<div>\n",
       "<style scoped>\n",
       "    .dataframe tbody tr th:only-of-type {\n",
       "        vertical-align: middle;\n",
       "    }\n",
       "\n",
       "    .dataframe tbody tr th {\n",
       "        vertical-align: top;\n",
       "    }\n",
       "\n",
       "    .dataframe thead th {\n",
       "        text-align: right;\n",
       "    }\n",
       "</style>\n",
       "<table border=\"1\" class=\"dataframe\">\n",
       "  <thead>\n",
       "    <tr style=\"text-align: right;\">\n",
       "      <th></th>\n",
       "      <th>chapter</th>\n",
       "      <th>like</th>\n",
       "      <th>dislike</th>\n",
       "      <th>wt_num</th>\n",
       "    </tr>\n",
       "  </thead>\n",
       "  <tbody>\n",
       "    <tr>\n",
       "      <th>count</th>\n",
       "      <td>735501.000000</td>\n",
       "      <td>735501.000000</td>\n",
       "      <td>735501.000000</td>\n",
       "      <td>735501.000000</td>\n",
       "    </tr>\n",
       "    <tr>\n",
       "      <th>mean</th>\n",
       "      <td>157.972385</td>\n",
       "      <td>58.724339</td>\n",
       "      <td>3.004727</td>\n",
       "      <td>87.920857</td>\n",
       "    </tr>\n",
       "    <tr>\n",
       "      <th>std</th>\n",
       "      <td>208.101928</td>\n",
       "      <td>1014.708363</td>\n",
       "      <td>39.715578</td>\n",
       "      <td>54.049251</td>\n",
       "    </tr>\n",
       "    <tr>\n",
       "      <th>min</th>\n",
       "      <td>1.000000</td>\n",
       "      <td>0.000000</td>\n",
       "      <td>0.000000</td>\n",
       "      <td>0.000000</td>\n",
       "    </tr>\n",
       "    <tr>\n",
       "      <th>25%</th>\n",
       "      <td>23.000000</td>\n",
       "      <td>0.000000</td>\n",
       "      <td>0.000000</td>\n",
       "      <td>47.000000</td>\n",
       "    </tr>\n",
       "    <tr>\n",
       "      <th>50%</th>\n",
       "      <td>121.000000</td>\n",
       "      <td>1.000000</td>\n",
       "      <td>0.000000</td>\n",
       "      <td>86.000000</td>\n",
       "    </tr>\n",
       "    <tr>\n",
       "      <th>75%</th>\n",
       "      <td>209.000000</td>\n",
       "      <td>3.000000</td>\n",
       "      <td>2.000000</td>\n",
       "      <td>130.000000</td>\n",
       "    </tr>\n",
       "    <tr>\n",
       "      <th>max</th>\n",
       "      <td>1215.000000</td>\n",
       "      <td>111989.000000</td>\n",
       "      <td>15576.000000</td>\n",
       "      <td>191.000000</td>\n",
       "    </tr>\n",
       "  </tbody>\n",
       "</table>\n",
       "</div>"
      ],
      "text/plain": [
       "             chapter           like        dislike         wt_num\n",
       "count  735501.000000  735501.000000  735501.000000  735501.000000\n",
       "mean      157.972385      58.724339       3.004727      87.920857\n",
       "std       208.101928    1014.708363      39.715578      54.049251\n",
       "min         1.000000       0.000000       0.000000       0.000000\n",
       "25%        23.000000       0.000000       0.000000      47.000000\n",
       "50%       121.000000       1.000000       0.000000      86.000000\n",
       "75%       209.000000       3.000000       2.000000     130.000000\n",
       "max      1215.000000  111989.000000   15576.000000     191.000000"
      ]
     },
     "execution_count": 4,
     "metadata": {},
     "output_type": "execute_result"
    }
   ],
   "source": [
    "comments.describe()"
   ]
  },
  {
   "cell_type": "code",
   "execution_count": 5,
   "metadata": {},
   "outputs": [
    {
     "data": {
      "text/html": [
       "<div>\n",
       "<style scoped>\n",
       "    .dataframe tbody tr th:only-of-type {\n",
       "        vertical-align: middle;\n",
       "    }\n",
       "\n",
       "    .dataframe tbody tr th {\n",
       "        vertical-align: top;\n",
       "    }\n",
       "\n",
       "    .dataframe thead th {\n",
       "        text-align: right;\n",
       "    }\n",
       "</style>\n",
       "<table border=\"1\" class=\"dataframe\">\n",
       "  <thead>\n",
       "    <tr style=\"text-align: right;\">\n",
       "      <th></th>\n",
       "      <th>wt_num</th>\n",
       "      <th>title</th>\n",
       "      <th>score</th>\n",
       "      <th>artist</th>\n",
       "      <th>genre</th>\n",
       "      <th>chapter</th>\n",
       "      <th>reader</th>\n",
       "    </tr>\n",
       "  </thead>\n",
       "  <tbody>\n",
       "    <tr>\n",
       "      <th>134</th>\n",
       "      <td>186</td>\n",
       "      <td>도망자</td>\n",
       "      <td>9.93</td>\n",
       "      <td>신영우</td>\n",
       "      <td>action</td>\n",
       "      <td>53</td>\n",
       "      <td>72</td>\n",
       "    </tr>\n",
       "    <tr>\n",
       "      <th>135</th>\n",
       "      <td>187</td>\n",
       "      <td>호랭총각</td>\n",
       "      <td>9.90</td>\n",
       "      <td>강호진</td>\n",
       "      <td>comic</td>\n",
       "      <td>45</td>\n",
       "      <td>218</td>\n",
       "    </tr>\n",
       "    <tr>\n",
       "      <th>136</th>\n",
       "      <td>188</td>\n",
       "      <td>뱀이 앉은 자리</td>\n",
       "      <td>9.97</td>\n",
       "      <td>김이연</td>\n",
       "      <td>drama</td>\n",
       "      <td>48</td>\n",
       "      <td>383</td>\n",
       "    </tr>\n",
       "    <tr>\n",
       "      <th>137</th>\n",
       "      <td>190</td>\n",
       "      <td>내일</td>\n",
       "      <td>9.98</td>\n",
       "      <td>라마</td>\n",
       "      <td>daily</td>\n",
       "      <td>14</td>\n",
       "      <td>239</td>\n",
       "    </tr>\n",
       "    <tr>\n",
       "      <th>138</th>\n",
       "      <td>191</td>\n",
       "      <td>귀도호가록</td>\n",
       "      <td>9.97</td>\n",
       "      <td>이수민</td>\n",
       "      <td>action</td>\n",
       "      <td>16</td>\n",
       "      <td>400</td>\n",
       "    </tr>\n",
       "  </tbody>\n",
       "</table>\n",
       "</div>"
      ],
      "text/plain": [
       "     wt_num     title  score artist   genre  chapter  reader\n",
       "134     186       도망자   9.93    신영우  action       53      72\n",
       "135     187      호랭총각   9.90    강호진   comic       45     218\n",
       "136     188  뱀이 앉은 자리   9.97    김이연   drama       48     383\n",
       "137     190        내일   9.98     라마   daily       14     239\n",
       "138     191     귀도호가록   9.97    이수민  action       16     400"
      ]
     },
     "execution_count": 5,
     "metadata": {},
     "output_type": "execute_result"
    }
   ],
   "source": [
    "info_wt = pd.read_csv('info_wt.csv')\n",
    "info_wt.tail()"
   ]
  },
  {
   "cell_type": "code",
   "execution_count": 6,
   "metadata": {},
   "outputs": [],
   "source": [
    "import statsmodels.api as sm"
   ]
  },
  {
   "cell_type": "code",
   "execution_count": 7,
   "metadata": {},
   "outputs": [],
   "source": [
    "y = info_wt[[\"reader\"]]"
   ]
  },
  {
   "cell_type": "code",
   "execution_count": 8,
   "metadata": {
    "scrolled": false
   },
   "outputs": [],
   "source": [
    "model = sm.OLS.from_formula(\"reader ~ C(artist)\", info_wt)\n",
    "result = model.fit()\n",
    "# print(result.summary())"
   ]
  },
  {
   "cell_type": "code",
   "execution_count": 9,
   "metadata": {},
   "outputs": [],
   "source": [
    "comments_1 = comments[['user_id','wt_num']]\n",
    "comments_1['count'] = 1\n",
    "comments_1 = comments_1.groupby(['user_id','wt_num']).sum()"
   ]
  },
  {
   "cell_type": "code",
   "execution_count": 10,
   "metadata": {},
   "outputs": [],
   "source": [
    "user_id = list(set(comments['user_id']))\n",
    "wt_num = list(set(comments['wt_num']))"
   ]
  },
  {
   "cell_type": "code",
   "execution_count": 11,
   "metadata": {},
   "outputs": [],
   "source": [
    "user_df = pd.DataFrame(data = 0,index = user_id, columns= wt_num)"
   ]
  },
  {
   "cell_type": "code",
   "execution_count": 12,
   "metadata": {},
   "outputs": [],
   "source": [
    "user_df.loc['구름****(js74****)'][0] = 1"
   ]
  },
  {
   "cell_type": "code",
   "execution_count": null,
   "metadata": {},
   "outputs": [],
   "source": [
    "for id in user_id :\n",
    "    numwt = list(comments_1.loc[id].index)\n",
    "    for num in numwt :\n",
    "        user_df.loc[id][num] = int(comments_1.loc[id].loc[num])"
   ]
  },
  {
   "cell_type": "code",
   "execution_count": null,
   "metadata": {},
   "outputs": [],
   "source": [
    "user_df"
   ]
  },
  {
   "cell_type": "code",
   "execution_count": null,
   "metadata": {},
   "outputs": [],
   "source": [
    "|"
   ]
  }
 ],
 "metadata": {
  "kernelspec": {
   "display_name": "Python 3",
   "language": "python",
   "name": "python3"
  },
  "language_info": {
   "codemirror_mode": {
    "name": "ipython",
    "version": 3
   },
   "file_extension": ".py",
   "mimetype": "text/x-python",
   "name": "python",
   "nbconvert_exporter": "python",
   "pygments_lexer": "ipython3",
   "version": "3.6.4"
  }
 },
 "nbformat": 4,
 "nbformat_minor": 2
}
