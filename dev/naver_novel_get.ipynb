{
 "cells": [
  {
   "cell_type": "code",
   "execution_count": 68,
   "metadata": {
    "collapsed": true
   },
   "outputs": [],
   "source": [
    "from selenium import webdriver\n",
    "import time"
   ]
  },
  {
   "cell_type": "code",
   "execution_count": 69,
   "metadata": {
    "collapsed": true
   },
   "outputs": [],
   "source": [
    "driver = webdriver.Chrome()\n",
    "driver.get(\"http://m.novel.naver.com/ncomment/ncommentList.nhn?novelId=390149&volumeNo=324&section=webnovel\")\n",
    "driver.find_element_by_xpath(\n",
    "   '//*[@id=\"eventLayer\"]/div/div/a[3]'\n",
    "    ).click() # 버튼클릭하기\n"
   ]
  },
  {
   "cell_type": "code",
   "execution_count": 70,
   "metadata": {
    "collapsed": true
   },
   "outputs": [],
   "source": [
    "found = True\n",
    "while found : # 더보기 계속 누르기\n",
    "    try:\n",
    "        driver.find_element_by_xpath('//*[@id=\"cbox_module\"]/div/div[5]/a/span/span/span[1]').click() # 버튼클릭하기\n",
    "        addview = driver.find_element_by_css_selector(\"#ct .u_cbox_paginate .u_cbox_page_more\")  \n",
    "    except Exception:\n",
    "        if addview.is_displayed():\n",
    "            found = True\n",
    "        else:\n",
    "            found = False\n",
    "        "
   ]
  },
  {
   "cell_type": "code",
   "execution_count": 71,
   "metadata": {
    "collapsed": true
   },
   "outputs": [],
   "source": [
    "comments = driver.find_elements_by_css_selector('#ct .u_cbox_comment_box .u_cbox_nick_area')"
   ]
  },
  {
   "cell_type": "code",
   "execution_count": 72,
   "metadata": {
    "collapsed": true
   },
   "outputs": [],
   "source": [
    "user_list = []\n",
    "for comment in comments:\n",
    "    user = comment.find_element_by_css_selector('.u_cbox_nick').text\n",
    "    user_list.append(user)"
   ]
  },
  {
   "cell_type": "code",
   "execution_count": 73,
   "metadata": {
    "scrolled": true
   },
   "outputs": [
    {
     "data": {
      "text/plain": [
       "['정여사',\n",
       " '맑고푸르른바람',\n",
       " '도깨비',\n",
       " '지기',\n",
       " '벙구',\n",
       " 'Elie',\n",
       " '짱쇠',\n",
       " '김용우',\n",
       " '서은산',\n",
       " '태윤아빠',\n",
       " '신',\n",
       " '보리문디',\n",
       " '가을새',\n",
       " '대충대충',\n",
       " '레드',\n",
       " '아카시아',\n",
       " 'oaoo****',\n",
       " '큰돌',\n",
       " 'didtpqlrk',\n",
       " '빈우산',\n",
       " 'Lev',\n",
       " '개나리',\n",
       " '바보3',\n",
       " '슈리아',\n",
       " '강아지',\n",
       " 'qoq1****',\n",
       " '호둣골살다',\n",
       " '장경악',\n",
       " '꿀물',\n",
       " '루시퍼 우현',\n",
       " '슈크림',\n",
       " '포기하면편해',\n",
       " '숲길산책',\n",
       " 'duse****',\n",
       " '김종섭',\n",
       " 'vhej****',\n",
       " '땡마이',\n",
       " '감초',\n",
       " 'syb7****']"
      ]
     },
     "execution_count": 73,
     "metadata": {},
     "output_type": "execute_result"
    }
   ],
   "source": [
    "user_list"
   ]
  },
  {
   "cell_type": "code",
   "execution_count": null,
   "metadata": {
    "collapsed": true
   },
   "outputs": [],
   "source": []
  },
  {
   "cell_type": "code",
   "execution_count": 78,
   "metadata": {
    "collapsed": true
   },
   "outputs": [],
   "source": [
    "def get_naveruser(url, user_list):\n",
    "    driver = webdriver.Chrome()\n",
    "    driver.get(url)\n",
    "    driver.find_element_by_xpath(\n",
    "       '//*[@id=\"eventLayer\"]/div/div/a[3]'\n",
    "        ).click() # 버튼클릭하기\n",
    "    \n",
    "    found = True\n",
    "    while found : # 더보기 계속 누르기\n",
    "        try:\n",
    "            driver.find_element_by_xpath('//*[@id=\"cbox_module\"]/div/div[5]/a/span/span/span[1]').click() # 버튼클릭하기\n",
    "            addview = driver.find_element_by_css_selector(\"#ct .u_cbox_paginate .u_cbox_page_more\")  \n",
    "        except Exception:\n",
    "            if addview.is_displayed():\n",
    "                found = True\n",
    "            else:\n",
    "                found = False\n",
    "    #user 가져오기\n",
    "    comments = driver.find_elements_by_css_selector('#ct .u_cbox_comment_box .u_cbox_nick_area')\n",
    "    for comment in comments:\n",
    "        user = comment.find_element_by_css_selector('.u_cbox_nick').text\n",
    "        user_list.append(user)\n",
    "    driver.close()\n",
    "    return user_list"
   ]
  },
  {
   "cell_type": "code",
   "execution_count": 4,
   "metadata": {
    "collapsed": true
   },
   "outputs": [],
   "source": [
    "ls = [['a','b','c'],\n",
    "      ['a','b','c'],\n",
    "      ['a','b','c'],\n",
    "      ['a','b','c']]"
   ]
  },
  {
   "cell_type": "code",
   "execution_count": 8,
   "metadata": {},
   "outputs": [
    {
     "ename": "IndexError",
     "evalue": "list assignment index out of range",
     "output_type": "error",
     "traceback": [
      "\u001b[1;31m---------------------------------------------------------------------------\u001b[0m",
      "\u001b[1;31mIndexError\u001b[0m                                Traceback (most recent call last)",
      "\u001b[1;32m<ipython-input-8-47cc25bb7ade>\u001b[0m in \u001b[0;36m<module>\u001b[1;34m()\u001b[0m\n\u001b[1;32m----> 1\u001b[1;33m \u001b[0mls\u001b[0m\u001b[1;33m[\u001b[0m\u001b[1;36m3\u001b[0m\u001b[1;33m]\u001b[0m\u001b[1;33m[\u001b[0m\u001b[1;36m3\u001b[0m\u001b[1;33m]\u001b[0m \u001b[1;33m=\u001b[0m \u001b[1;36m4\u001b[0m\u001b[1;33m\u001b[0m\u001b[0m\n\u001b[0m",
      "\u001b[1;31mIndexError\u001b[0m: list assignment index out of range"
     ]
    }
   ],
   "source": [
    "ls = appendls[3][3] = 4"
   ]
  },
  {
   "cell_type": "code",
   "execution_count": null,
   "metadata": {
    "collapsed": true
   },
   "outputs": [],
   "source": []
  }
 ],
 "metadata": {
  "kernelspec": {
   "display_name": "Python 3",
   "language": "python",
   "name": "python3"
  },
  "language_info": {
   "codemirror_mode": {
    "name": "ipython",
    "version": 3
   },
   "file_extension": ".py",
   "mimetype": "text/x-python",
   "name": "python",
   "nbconvert_exporter": "python",
   "pygments_lexer": "ipython3",
   "version": "3.6.3"
  }
 },
 "nbformat": 4,
 "nbformat_minor": 2
}
