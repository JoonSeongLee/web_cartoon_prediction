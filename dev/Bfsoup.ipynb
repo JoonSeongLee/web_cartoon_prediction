{
 "cells": [
  {
   "cell_type": "code",
   "execution_count": 1,
   "metadata": {},
   "outputs": [],
   "source": [
    "import json\n",
    "from urllib.parse import urlparse, parse_qs, urljoin\n",
    "\n",
    "import requests as rq\n",
    "from bs4 import BeautifulSoup\n"
   ]
  },
  {
   "cell_type": "code",
   "execution_count": 2,
   "metadata": {},
   "outputs": [],
   "source": [
    "def get_daylywebtoons():\n",
    "\n",
    "    webtoon_main_url = WC['TOP_URL']\n",
    "    res = rq.get(webtoon_main_url)\n",
    "    main_soup = BeautifulSoup(res.content, 'lxml')\n",
    "    webtoon_links = [{\"title\": a_tag.get('title'), \"link\": urljoin(WC['TOP_URL'], a_tag.get('href'))}\n",
    "                      for a_tag in main_soup.select('#content a.title')]\n",
    "    \n",
    "    return webtoon_links\n"
   ]
  },
  {
   "cell_type": "code",
   "execution_count": 3,
   "metadata": {},
   "outputs": [],
   "source": [
    "WC = {'TOP_URL' : 'http://comic.naver.com/webtoon/weekday.nhn'}\n"
   ]
  },
  {
   "cell_type": "code",
   "execution_count": 4,
   "metadata": {
    "scrolled": true
   },
   "outputs": [
    {
     "data": {
      "text/plain": [
       "[{'link': 'http://comic.naver.com/webtoon/list.nhn?titleId=183559&weekday=mon',\n",
       "  'title': '신의 탑'},\n",
       " {'link': 'http://comic.naver.com/webtoon/list.nhn?titleId=648419&weekday=mon',\n",
       "  'title': '뷰티풀 군바리'},\n",
       " {'link': 'http://comic.naver.com/webtoon/list.nhn?titleId=602910&weekday=mon',\n",
       "  'title': '윈드브레이커'},\n",
       " {'link': 'http://comic.naver.com/webtoon/list.nhn?titleId=654774&weekday=mon',\n",
       "  'title': '소녀의 세계'},\n",
       " {'link': 'http://comic.naver.com/webtoon/list.nhn?titleId=679519&weekday=mon',\n",
       "  'title': '대학일기'}]"
      ]
     },
     "execution_count": 4,
     "metadata": {},
     "output_type": "execute_result"
    }
   ],
   "source": [
    "webtoons = get_daylywebtoons()\n",
    "webtoons[:5]\n"
   ]
  },
  {
   "cell_type": "code",
   "execution_count": 5,
   "metadata": {},
   "outputs": [],
   "source": [
    "def get_qs(url, key):\n",
    "    url_query = urlparse(url).query\n",
    "    query_dict = parse_qs(url_query)\n",
    "    value = query_dict[key][0]\n",
    "    return value\n"
   ]
  },
  {
   "cell_type": "code",
   "execution_count": 6,
   "metadata": {},
   "outputs": [],
   "source": [
    "def get_webtoon_id(number):\n",
    "    webtoon_url = webtoons[number]['link']\n",
    "    webtoon_title = webtoons[number]['title']\n",
    "    print('webtoon_title :', webtoon_title)\n",
    "\n",
    "    webtoon_id = get_qs(webtoon_url, 'titleId')\n",
    "    print('webtoon_id : ', webtoon_id)\n",
    "    weekday = get_qs(webtoon_url, 'weekday')\n",
    "    print('weekday : ', weekday)\n",
    "    \n",
    "    return webtoon_id\n"
   ]
  },
  {
   "cell_type": "code",
   "execution_count": 7,
   "metadata": {},
   "outputs": [],
   "source": [
    "def get_webtoon_url(number):\n",
    "    \n",
    "    webtoon_url = webtoons[number]['link']\n",
    "    print('webtoon_url :', webtoon_url)\n",
    "    \n",
    "    return webtoon_url\n"
   ]
  },
  {
   "cell_type": "code",
   "execution_count": 8,
   "metadata": {},
   "outputs": [],
   "source": [
    "def get_start_chapter(n):\n",
    "    url = get_webtoon_url(n)\n",
    "    res = rq.get(url)\n",
    "    startchapter = BeautifulSoup(res.content, 'lxml')\n",
    "    aa = startchapter.select('#content > table > tr > td.title > a')[0]\n",
    "    u = aa.get('href')\n",
    "    url_query = urlparse(u).query\n",
    "    query_dict = parse_qs(url_query)\n",
    "    start_chapter = query_dict['no'][0]\n",
    "    return start_chapter\n"
   ]
  },
  {
   "cell_type": "code",
   "execution_count": 9,
   "metadata": {},
   "outputs": [],
   "source": [
    "def get_comment_soup(webtoon_id, chapter, comment_page=1):\n",
    "    Referer_url='http://m.comic.naver.com/scrolltoon/comment.nhn?titleId='+str(webtoon_id)+'&no='+str(chapter)\n",
    "    coment_url='http://apis.naver.com/commentBox/cbox/web_naver_list_jsonp.json?ticket=comic&templateId=webtoon&pool=cbox3&_callback=jQuery33104420385964332538_1524620976824&lang=ko&country=KR&objectId='+str(webtoon_id) + '_' + str(chapter)+'&categoryId=&pageSize=15&indexSize=10&groupId=&listType=OBJECT&pageType=more&page='+str(comment_page)+'&initialize=true&userType=&useAltSort=true&replyPageSize=10&sort=NEW&_=1524620976825'\n",
    "    header = {\n",
    "            \"Host\": \"apis.naver.com\",\n",
    "            \"Referer\": Referer_url,\n",
    "        }\n",
    "\n",
    "    res = rq.get(coment_url, headers = header)\n",
    "    soup = BeautifulSoup(res.content, 'lxml')\n",
    "    return soup\n"
   ]
  },
  {
   "cell_type": "code",
   "execution_count": 10,
   "metadata": {},
   "outputs": [],
   "source": [
    "def from_soup_to_maxlpage(tt):\n",
    "    content_text = tt.select('p')[0].text\n",
    "    one = content_text.find('(') + 1\n",
    "    two = content_text.find(');')\n",
    "    content = json.loads(content_text[one:two])\n",
    "    max_comment_page = content['result']['pageModel']['totalPages']\n",
    "    return max_comment_page\n"
   ]
  },
  {
   "cell_type": "code",
   "execution_count": 11,
   "metadata": {},
   "outputs": [],
   "source": [
    "def get_comment_ls(soup, chapter, comment_ls):\n",
    "    content_text = soup.select('p')[0].text\n",
    "    one = content_text.find('(') + 1\n",
    "    two = content_text.find(');')\n",
    "    content = json.loads(content_text[one:two])\n",
    "    comments = content['result']['commentList']\n",
    "\n",
    "    for n in range(0,14+1):\n",
    "        ls = []\n",
    "        com = comments[n]['contents']\n",
    "        userid = comments[n]['maskedUserName'] + '('+comments[n]['maskedUserId'] + ')'\n",
    "        like = comments[n]['sympathyCount']\n",
    "        dislike = comments[n]['antipathyCount']\n",
    "        ls = [chapter, userid, com, like, dislike]\n",
    "        comment_ls.append(ls)\n",
    "        \n",
    "    return comment_ls\n"
   ]
  },
  {
   "cell_type": "code",
   "execution_count": 12,
   "metadata": {},
   "outputs": [],
   "source": [
    "def get_data(title, webtoon_id, chapter):\n",
    "\n",
    "    tt = get_comment_soup(webtoon_id, chapter, comment_page=1)\n",
    "    max_comment_page= from_soup_to_maxlpage(tt)\n",
    "    comment_ls = []\n",
    "    \n",
    "    for comment_page in range(1,max_comment_page+1):      \n",
    "        soup = get_comment_soup(webtoon_id, chapter, comment_page)\n",
    "        try:\n",
    "            get_comment_ls(soup, chapter, comment_ls)\n",
    "        except :\n",
    "            pass\n",
    "        \n",
    "        \n",
    "    print('chapter '+str(chapter)+' Load finish')\n",
    "            \n",
    "    return comment_ls\n"
   ]
  },
  {
   "cell_type": "code",
   "execution_count": null,
   "metadata": {},
   "outputs": [
    {
     "name": "stdout",
     "output_type": "stream",
     "text": [
      "webtoon_title : 신의 탑\n",
      "webtoon_id :  183559\n",
      "weekday :  mon\n",
      "webtoon_url : http://comic.naver.com/webtoon/list.nhn?titleId=183559&weekday=mon\n",
      "chapter 365 Load finish\n",
      "chapter 366 Load finish\n",
      "chapter 367 Load finish\n",
      "chapter 368 Load finish\n",
      "chapter 369 Load finish\n",
      "chapter 370 Load finish\n",
      "chapter 371 Load finish\n",
      "chapter 372 Load finish\n",
      "chapter 373 Load finish\n",
      "chapter 374 Load finish\n",
      "chapter 375 Load finish\n",
      "chapter 377 Load finish\n",
      "chapter 378 Load finish\n",
      "chapter 379 Load finish\n",
      "chapter 380 Load finish\n",
      "webtoon_title : 뷰티풀 군바리\n",
      "webtoon_id :  648419\n",
      "weekday :  mon\n",
      "webtoon_url : http://comic.naver.com/webtoon/list.nhn?titleId=648419&weekday=mon\n",
      "chapter 146 Load finish\n",
      "chapter 147 Load finish\n",
      "chapter 148 Load finish\n",
      "chapter 149 Load finish\n",
      "chapter 150 Load finish\n",
      "chapter 151 Load finish\n",
      "chapter 152 Load finish\n",
      "chapter 153 Load finish\n",
      "chapter 154 Load finish\n",
      "chapter 155 Load finish\n",
      "chapter 156 Load finish\n",
      "chapter 157 Load finish\n",
      "chapter 158 Load finish\n",
      "chapter 159 Load finish\n",
      "chapter 160 Load finish\n",
      "chapter 161 Load finish\n",
      "webtoon_title : 윈드브레이커\n",
      "webtoon_id :  602910\n",
      "weekday :  mon\n",
      "webtoon_url : http://comic.naver.com/webtoon/list.nhn?titleId=602910&weekday=mon\n",
      "chapter 197 Load finish\n",
      "chapter 198 Load finish\n",
      "chapter 199 Load finish\n",
      "chapter 200 Load finish\n",
      "chapter 201 Load finish\n",
      "chapter 202 Load finish\n",
      "chapter 204 Load finish\n",
      "chapter 205 Load finish\n",
      "chapter 206 Load finish\n",
      "chapter 207 Load finish\n",
      "chapter 209 Load finish\n",
      "chapter 210 Load finish\n",
      "chapter 212 Load finish\n",
      "webtoon_title : 소녀의 세계\n",
      "webtoon_id :  654774\n",
      "weekday :  mon\n",
      "webtoon_url : http://comic.naver.com/webtoon/list.nhn?titleId=654774&weekday=mon\n",
      "chapter 126 Load finish\n",
      "chapter 127 Load finish\n",
      "chapter 129 Load finish\n",
      "chapter 130 Load finish\n",
      "chapter 131 Load finish\n",
      "chapter 133 Load finish\n",
      "chapter 134 Load finish\n",
      "chapter 135 Load finish\n",
      "chapter 136 Load finish\n",
      "chapter 137 Load finish\n",
      "chapter 138 Load finish\n",
      "chapter 141 Load finish\n",
      "webtoon_title : 대학일기\n",
      "webtoon_id :  679519\n",
      "weekday :  mon\n",
      "webtoon_url : http://comic.naver.com/webtoon/list.nhn?titleId=679519&weekday=mon\n",
      "chapter 186 Load finish\n",
      "chapter 187 Load finish\n",
      "chapter 188 Load finish\n",
      "chapter 189 Load finish\n",
      "chapter 190 Load finish\n",
      "chapter 191 Load finish\n",
      "chapter 192 Load finish\n",
      "chapter 193 Load finish\n",
      "chapter 195 Load finish\n",
      "chapter 196 Load finish\n",
      "chapter 197 Load finish\n",
      "chapter 198 Load finish\n",
      "webtoon_title : 평범한 8반\n",
      "webtoon_id :  597478\n",
      "weekday :  mon\n",
      "webtoon_url : http://comic.naver.com/webtoon/list.nhn?titleId=597478&weekday=mon\n",
      "chapter 198 Load finish\n"
     ]
    }
   ],
   "source": [
    "for webtoon_number in range(0, 193+1):\n",
    "    webtoon_id = get_webtoon_id(webtoon_number)\n",
    "    start = int(get_start_chapter(webtoon_number))\n",
    "\n",
    "    empt = [] \n",
    "    for ch in range(start-15, start+1) :\n",
    "        ls=[]\n",
    "        try:\n",
    "            ls = get_data(str(webtoon_id), webtoon_id, chapter = ch)         \n",
    "        except :\n",
    "                pass\n",
    "        for i in range(len(ls)):\n",
    "            empt.append(ls[i])\n",
    "    df = pd.DataFrame(data = empt ,columns=['chapter', 'user_id', 'comment', 'like', 'dislike'])\n",
    "    df.to_csv('data/webtoon_{}.csv'.format(webtoon_number))\n",
    "    "
   ]
  },
  {
   "cell_type": "code",
   "execution_count": null,
   "metadata": {},
   "outputs": [],
   "source": []
  }
 ],
 "metadata": {
  "kernelspec": {
   "display_name": "Python 3",
   "language": "python",
   "name": "python3"
  },
  "language_info": {
   "codemirror_mode": {
    "name": "ipython",
    "version": 3
   },
   "file_extension": ".py",
   "mimetype": "text/x-python",
   "name": "python",
   "nbconvert_exporter": "python",
   "pygments_lexer": "ipython3",
   "version": "3.6.4"
  }
 },
 "nbformat": 4,
 "nbformat_minor": 2
}
