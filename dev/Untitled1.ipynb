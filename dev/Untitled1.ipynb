{
 "cells": [
  {
   "cell_type": "code",
   "execution_count": 39,
   "metadata": {},
   "outputs": [],
   "source": [
    "def drop_user(wt_num):\n",
    "    dff = pd.read_csv('data/webtoon_{}.csv'.format(wt_num), index_col = 0)\n",
    "    count_user = dff.groupby(['user_id']).size().reset_index(name='Counts').sort_values(by='Counts',ascending=False)\n",
    "    print(wt_num,', number of drop_user : ',len(count_user[count_user['Counts'] < 5]))\n",
    "    drop_user = list(count_user[count_user['Counts'] < 5]['user_id'])\n",
    "    df = dff.copy()\n",
    "    for idx in range(len(df)): \n",
    "        if df['user_id'][idx] in drop_user:\n",
    "            df = df.drop(idx)\n",
    "    df.to_csv('data/dropu_webtoon_{}.csv'.format(wt_num))        \n",
    "    return df.reset_index()    \n",
    "    "
   ]
  },
  {
   "cell_type": "code",
   "execution_count": 58,
   "metadata": {},
   "outputs": [],
   "source": [
    "ls_wt_num = list(range(193))\n",
    "for i in ls_wt_num:\n",
    "    if i in [176,35,82,160,196,181,12,158,182,100,43,69,145,125,96,41,64,88,154,167,174,61,111,194,99,151,171,193,156,168]:\n",
    "        ls_wt_num.remove(i)"
   ]
  },
  {
   "cell_type": "code",
   "execution_count": 60,
   "metadata": {},
   "outputs": [
    {
     "data": {
      "text/plain": [
       "169"
      ]
     },
     "execution_count": 60,
     "metadata": {},
     "output_type": "execute_result"
    }
   ],
   "source": [
    "len(ls_wt_num)\n"
   ]
  },
  {
   "cell_type": "code",
   "execution_count": null,
   "metadata": {},
   "outputs": [
    {
     "name": "stdout",
     "output_type": "stream",
     "text": [
      "101 , number of drop_user :  6756\n",
      "102 , number of drop_user :  5743\n",
      "103 , number of drop_user :  3894\n",
      "104 , number of drop_user :  4411\n",
      "105 , number of drop_user :  4002\n",
      "106 , number of drop_user :  8427\n",
      "107 , number of drop_user :  3846\n",
      "108 , number of drop_user :  1682\n",
      "109 , number of drop_user :  6988\n",
      "110 , number of drop_user :  1359\n",
      "112 , number of drop_user :  11284\n",
      "113 , number of drop_user :  709\n",
      "114 , number of drop_user :  494\n",
      "115 , number of drop_user :  60007\n",
      "116 , number of drop_user :  21134\n",
      "117 , number of drop_user :  6878\n",
      "118 , number of drop_user :  32768\n",
      "119 , number of drop_user :  7586\n",
      "120 , number of drop_user :  12952\n",
      "121 , number of drop_user :  8107\n",
      "122 , number of drop_user :  9578\n",
      "123 , number of drop_user :  12919\n",
      "124 , number of drop_user :  19566\n",
      "126 , number of drop_user :  5752\n",
      "127 , number of drop_user :  17421\n",
      "128 , number of drop_user :  3918\n",
      "129 , number of drop_user :  2858\n",
      "130 , number of drop_user :  14121\n",
      "131 , number of drop_user :  4439\n",
      "132 , number of drop_user :  4775\n",
      "133 , number of drop_user :  2819\n",
      "134 , number of drop_user :  6650\n",
      "135 , number of drop_user :  1241\n",
      "136 , number of drop_user :  5128\n",
      "137 , number of drop_user :  4275\n",
      "138 , number of drop_user :  2340\n",
      "139 , number of drop_user :  1569\n",
      "140 , number of drop_user :  2942\n",
      "141 , number of drop_user :  1613\n",
      "142 , number of drop_user :  28656\n",
      "143 , number of drop_user :  13867\n",
      "144 , number of drop_user :  29965\n",
      "146 , number of drop_user :  17118\n",
      "147 , number of drop_user :  11771\n",
      "148 , number of drop_user :  10453\n",
      "149 , number of drop_user :  26355\n",
      "150 , number of drop_user :  14614\n",
      "152 , number of drop_user :  14111\n",
      "153 , number of drop_user :  10259\n",
      "155 , number of drop_user :  10724\n",
      "157 , number of drop_user :  5767\n",
      "159 , number of drop_user :  4142\n",
      "161 , number of drop_user :  13189\n",
      "162 , number of drop_user :  9796\n",
      "163 , number of drop_user :  12107\n",
      "164 , number of drop_user :  3035\n",
      "165 , number of drop_user :  9899\n",
      "166 , number of drop_user :  9015\n",
      "168 , number of drop_user :  25872\n",
      "169 , number of drop_user :  21886\n",
      "170 , number of drop_user :  28281\n",
      "172 , number of drop_user :  9862\n",
      "173 , number of drop_user :  11221\n",
      "175 , number of drop_user :  8108\n",
      "177 , number of drop_user :  16249\n",
      "178 , number of drop_user :  12344\n",
      "179 , number of drop_user :  3680\n",
      "180 , number of drop_user :  4522\n",
      "182 , number of drop_user :  6033\n",
      "183 , number of drop_user :  6111\n",
      "184 , number of drop_user :  6000\n",
      "185 , number of drop_user :  4229\n",
      "186 , number of drop_user :  3933\n",
      "187 , number of drop_user :  8622\n",
      "188 , number of drop_user :  12843\n",
      "189 , number of drop_user :  3439\n",
      "190 , number of drop_user :  10302\n",
      "191 , number of drop_user :  16001\n"
     ]
    }
   ],
   "source": [
    "for i in ls_wt_num:\n",
    "    if i > 100:\n",
    "        try:\n",
    "            drop_user(i)\n",
    "        except:\n",
    "            pass\n",
    "        \n",
    "    "
   ]
  },
  {
   "cell_type": "code",
   "execution_count": null,
   "metadata": {},
   "outputs": [],
   "source": []
  }
 ],
 "metadata": {
  "kernelspec": {
   "display_name": "Python 3",
   "language": "python",
   "name": "python3"
  },
  "language_info": {
   "codemirror_mode": {
    "name": "ipython",
    "version": 3
   },
   "file_extension": ".py",
   "mimetype": "text/x-python",
   "name": "python",
   "nbconvert_exporter": "python",
   "pygments_lexer": "ipython3",
   "version": "3.6.4"
  }
 },
 "nbformat": 4,
 "nbformat_minor": 2
}
