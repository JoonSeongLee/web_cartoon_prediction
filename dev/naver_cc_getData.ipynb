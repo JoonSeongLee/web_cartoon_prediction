{
 "cells": [
  {
   "cell_type": "code",
   "execution_count": 1,
   "metadata": {
    "collapsed": true
   },
   "outputs": [],
   "source": [
    "from selenium import webdriver\n",
    "import time\n"
   ]
  },
  {
   "cell_type": "code",
   "execution_count": 2,
   "metadata": {
    "collapsed": true
   },
   "outputs": [],
   "source": [
    "def get_naveruser(url, user_list):\n",
    "    driver = webdriver.Chrome()\n",
    "    driver.get(url)\n",
    "    time.sleep(5)\n",
    "    addview = driver.find_element_by_css_selector(\"#ct #cbox_module .u_cbox_paginate\")  \n",
    "    scroll = 0\n",
    "    found = True\n",
    "    while found : # 더보기 계속 누르기\n",
    "        try:\n",
    "            scroll += 50\n",
    "            addview = driver.find_element_by_css_selector(\"#ct .u_cbox_paginate .u_cbox_page_more\")  \n",
    "            driver.find_element_by_xpath('//*[@id=\"cbox_module\"]/div/div[6]/a/span/span').click() # 버튼클릭하기\n",
    "            driver.execute_script(\"window.scrollTo(0, {});\".format(scroll))\n",
    "           \n",
    "            \n",
    "            if addview.is_displayed():\n",
    "                found = True\n",
    "            else:\n",
    "                found = False\n",
    "        except :\n",
    "            if addview.is_displayed() == True:\n",
    "                driver.execute_script(\"window.scrollTo(0, {});\".format(scroll))\n",
    "                found = True\n",
    "            else:\n",
    "                found = False\n",
    "    #user 가져오기\n",
    "    comments = driver.find_elements_by_css_selector('#ct .u_cbox_comment_box')\n",
    "    for comment in comments:\n",
    "        ls = []\n",
    "        user = comment.find_element_by_css_selector('.u_cbox_nick').text\n",
    "        user_id = comment.find_element_by_css_selector('.u_cbox_id').text\n",
    "        user_txt = comment.find_element_by_css_selector('.u_cbox_contents').text\n",
    "        user_re = comment.find_element_by_css_selector('.u_cbox_tool .u_cbox_cnt_recomm').text\n",
    "        user_unre = comment.find_element_by_css_selector('.u_cbox_tool .u_cbox_cnt_unrecomm').text\n",
    "        ls = [user+user_id, user_txt, user_re, user_unre]\n",
    "        user_list.append(ls)\n",
    "    drive.close()\n",
    "    return user_list\n",
    "\n"
   ]
  },
  {
   "cell_type": "code",
   "execution_count": null,
   "metadata": {
    "collapsed": true
   },
   "outputs": [],
   "source": [
    "def get_mkcsv(url_, ls, start, end):    \n",
    "    for i in (start, end+1):\n",
    "        url = url_ + '{}'.format(i)\n",
    "        ls = get_naveruser(url, ls)\n",
    "        df = pd.DataFrame(data = ls, columns = ['user_id', 'coment', 'recommend', 'unrecommend'])\n",
    "        df.to_csv('{}.csv'.format(ls))\n",
    "    return df"
   ]
  },
  {
   "cell_type": "code",
   "execution_count": null,
   "metadata": {
    "collapsed": true
   },
   "outputs": [],
   "source": [
    "# 오직 나의 주인님 1화(2017.12.03)~20화\n",
    "mon_onlymy=[]\n",
    "url = 'http://m.comic.naver.com/scrolltoon/comment.nhn?titleId=703635&no='\n",
    "get_mkcsv(url, mon_onlymy, 1, 20)"
   ]
  },
  {
   "cell_type": "code",
   "execution_count": null,
   "metadata": {},
   "outputs": [],
   "source": [
    "# 신의 탑 339화(2017.7.9) ~\n",
    "mon_godtop=[]\n",
    "url = 'http://m.comic.naver.com/scrolltoon/comment.nhn?titleId=183559&no='\n",
    "get_mkcsv(url, mon_godtop, 339, 379)"
   ]
  },
  {
   "cell_type": "code",
   "execution_count": null,
   "metadata": {
    "scrolled": false
   },
   "outputs": [],
   "source": [
    "# 마이너스의 손 45화(2017.7.3) ~\n",
    "mon_minus=[]\n",
    "url = 'http://m.comic.naver.com/scrolltoon/comment.nhn?titleId=679568&no='\n",
    "get_mkcsv(url, mon_godtop, 45, 84)"
   ]
  },
  {
   "cell_type": "code",
   "execution_count": null,
   "metadata": {
    "collapsed": true
   },
   "outputs": [],
   "source": [
    "# 심연의 하늘 시즌 5 1화(2017.10.22) ~\n",
    "mon_simsky=[]\n",
    "url = 'http://m.comic.naver.com/scrolltoon/comment.nhn?titleId=702170&no='\n",
    "get_mkcsv(url, mon_simsky, 2, 27)"
   ]
  },
  {
   "cell_type": "code",
   "execution_count": null,
   "metadata": {
    "collapsed": true
   },
   "outputs": [],
   "source": [
    "# 이상하고 아름다운  77화(2017.10.22) ~\n",
    "mon_esang=[]\n",
    "url = 'http://m.comic.naver.com/scrolltoon/comment.nhn?titleId=668723&no='\n",
    "get_mkcsv(url, mon_esang, 77, 113)"
   ]
  },
  {
   "cell_type": "code",
   "execution_count": null,
   "metadata": {
    "collapsed": true
   },
   "outputs": [],
   "source": [
    "# 뷰티블 군바리 125화(2017.7.2)~ 160\n",
    "mon_btarmy=[]\n",
    "url = 'http://m.comic.naver.com/scrolltoon/comment.nhn?titleId=648419&no='\n",
    "get_mkcsv(url, mon_btarmy, 125, 160)"
   ]
  },
  {
   "cell_type": "code",
   "execution_count": null,
   "metadata": {
    "collapsed": true
   },
   "outputs": [],
   "source": [
    "# 윈드브레이커 170화 (2017.7.2)~ 211\n",
    "mon_wind=[]\n",
    "url = 'http://m.comic.naver.com/scrolltoon/comment.nhn?titleId=602910&no='\n",
    "get_mkcsv(url, mon_wind, 170, 211)"
   ]
  },
  {
   "cell_type": "code",
   "execution_count": null,
   "metadata": {
    "collapsed": true
   },
   "outputs": [],
   "source": [
    "# 꿈의 기업 34회(2017.07.02)~74\n",
    "mon_dreamc=[]\n",
    "url = 'http://m.comic.naver.com/scrolltoon/comment.nhn?titleId=687915&no='\n",
    "get_mkcsv(url, mon_dreamc, 34, 74)"
   ]
  },
  {
   "cell_type": "code",
   "execution_count": null,
   "metadata": {
    "collapsed": true
   },
   "outputs": [],
   "source": []
  },
  {
   "cell_type": "code",
   "execution_count": null,
   "metadata": {
    "collapsed": true
   },
   "outputs": [],
   "source": []
  }
 ],
 "metadata": {
  "kernelspec": {
   "display_name": "Python 3",
   "language": "python",
   "name": "python3"
  },
  "language_info": {
   "codemirror_mode": {
    "name": "ipython",
    "version": 3
   },
   "file_extension": ".py",
   "mimetype": "text/x-python",
   "name": "python",
   "nbconvert_exporter": "python",
   "pygments_lexer": "ipython3",
   "version": "3.6.3"
  }
 },
 "nbformat": 4,
 "nbformat_minor": 2
}
